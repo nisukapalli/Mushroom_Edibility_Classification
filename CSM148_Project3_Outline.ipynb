{
  "cells": [
    {
      "cell_type": "markdown",
      "metadata": {
        "id": "Q1JAc1ddb2-4"
      },
      "source": [
        "You are exploring the wilderness of _Mushroomia_, a land populated by a plethora of diverse fauna and flora. In particular, _Mushroomia_ is known for its unparalleled variety in mushrooms. However, not all the mushrooms in _Mushroomia_ are edible. As you make your way through _Mushroomia_, you would like to know which mushrooms are edible, in order to forage for supplies for your daily mushroom soup.\n",
        "\n",
        "You have access to:\n",
        "* _Shroomster Pro Max <sup>TM</sup>_ - a state of the art data collection device, developed by _Mushroomia_, that allows you to collect various data points about any mushroom you encounter in the wild\n",
        "* _The National Archives on Mushrooms_ - a dataset collected over the years by the government of _Mushroomia_\n",
        "\n",
        "To address this problem, you decide to use the skills you learnt in CSM148 and train machine learning models on the _The National Archives on Mushrooms_ in order to use your _Shroomster Pro Max <sup>TM</sup>_ to determine whether the mushrooms you encounter on your adventure can be added to your daily mushroom soup.  \n",
        "\n",
        "This project will be more unstructured than the previous two projects in order to allow you to experience how data science problems are solved in practice. There are two parts to this project: a Jupyter Notebook with your code (where you explore, visualize, process your data and train machine learning models) and a report (where you explain the various choices you make in your implementation and analyze the final performance of your models)."
      ]
    },
    {
      "cell_type": "markdown",
      "metadata": {
        "id": "wdxrlZxt5_BG"
      },
      "source": [
        "# 1. Loading and Viewing Data\n",
        "\n"
      ]
    },
    {
      "cell_type": "code",
      "execution_count": null,
      "metadata": {
        "id": "xZYOoCTNU82T",
        "colab": {
          "base_uri": "https://localhost:8080/"
        },
        "outputId": "369d7363-0151-463a-c03a-648cdd38be7f"
      },
      "outputs": [
        {
          "output_type": "stream",
          "name": "stdout",
          "text": [
            "Drive already mounted at /content/drive; to attempt to forcibly remount, call drive.mount(\"/content/drive\", force_remount=True).\n"
          ]
        }
      ],
      "source": [
        "from google.colab import drive\n",
        "drive.mount('/content/drive')"
      ]
    },
    {
      "cell_type": "code",
      "execution_count": null,
      "metadata": {
        "id": "osL4LWUad0I5"
      },
      "outputs": [],
      "source": [
        "import numpy as np\n",
        "import pandas as pd"
      ]
    },
    {
      "cell_type": "code",
      "execution_count": null,
      "metadata": {
        "id": "p85HU7ghYT4E",
        "colab": {
          "base_uri": "https://localhost:8080/",
          "height": 314
        },
        "outputId": "262f496e-0da6-4c0f-b2d8-aade2870175f"
      },
      "outputs": [
        {
          "output_type": "execute_result",
          "data": {
            "text/plain": [
              "  class  cap-diameter cap-shape cap-surface cap-color does-bruise-or-bleed  \\\n",
              "0     p         15.26         x           g         o                    f   \n",
              "1     p         16.60         x           g         o                    f   \n",
              "2     p         14.07         x           g         o                    f   \n",
              "3     p         14.17         f           h         e                    f   \n",
              "4     p         14.64         x           h         o                    f   \n",
              "\n",
              "  gill-attachment gill-spacing gill-color  stem-height  ...  stem-root  \\\n",
              "0               e          NaN          w        16.95  ...          s   \n",
              "1               e          NaN          w        17.99  ...          s   \n",
              "2               e          NaN          w        17.80  ...          s   \n",
              "3               e          NaN          w        15.77  ...          s   \n",
              "4               e          NaN          w        16.53  ...          s   \n",
              "\n",
              "  stem-surface stem-color veil-type veil-color has-ring ring-type  \\\n",
              "0            y          w         u          w        t         g   \n",
              "1            y          w         u          w        t         g   \n",
              "2            y          w         u          w        t         g   \n",
              "3            y          w         u          w        t         p   \n",
              "4            y          w         u          w        t         p   \n",
              "\n",
              "  spore-print-color habitat season  \n",
              "0               NaN       d      w  \n",
              "1               NaN       d      u  \n",
              "2               NaN       d      w  \n",
              "3               NaN       d      w  \n",
              "4               NaN       d      w  \n",
              "\n",
              "[5 rows x 21 columns]"
            ],
            "text/html": [
              "\n",
              "  <div id=\"df-29fdb9d4-a3f4-4ce8-a354-dca9d178d152\">\n",
              "    <div class=\"colab-df-container\">\n",
              "      <div>\n",
              "<style scoped>\n",
              "    .dataframe tbody tr th:only-of-type {\n",
              "        vertical-align: middle;\n",
              "    }\n",
              "\n",
              "    .dataframe tbody tr th {\n",
              "        vertical-align: top;\n",
              "    }\n",
              "\n",
              "    .dataframe thead th {\n",
              "        text-align: right;\n",
              "    }\n",
              "</style>\n",
              "<table border=\"1\" class=\"dataframe\">\n",
              "  <thead>\n",
              "    <tr style=\"text-align: right;\">\n",
              "      <th></th>\n",
              "      <th>class</th>\n",
              "      <th>cap-diameter</th>\n",
              "      <th>cap-shape</th>\n",
              "      <th>cap-surface</th>\n",
              "      <th>cap-color</th>\n",
              "      <th>does-bruise-or-bleed</th>\n",
              "      <th>gill-attachment</th>\n",
              "      <th>gill-spacing</th>\n",
              "      <th>gill-color</th>\n",
              "      <th>stem-height</th>\n",
              "      <th>...</th>\n",
              "      <th>stem-root</th>\n",
              "      <th>stem-surface</th>\n",
              "      <th>stem-color</th>\n",
              "      <th>veil-type</th>\n",
              "      <th>veil-color</th>\n",
              "      <th>has-ring</th>\n",
              "      <th>ring-type</th>\n",
              "      <th>spore-print-color</th>\n",
              "      <th>habitat</th>\n",
              "      <th>season</th>\n",
              "    </tr>\n",
              "  </thead>\n",
              "  <tbody>\n",
              "    <tr>\n",
              "      <th>0</th>\n",
              "      <td>p</td>\n",
              "      <td>15.26</td>\n",
              "      <td>x</td>\n",
              "      <td>g</td>\n",
              "      <td>o</td>\n",
              "      <td>f</td>\n",
              "      <td>e</td>\n",
              "      <td>NaN</td>\n",
              "      <td>w</td>\n",
              "      <td>16.95</td>\n",
              "      <td>...</td>\n",
              "      <td>s</td>\n",
              "      <td>y</td>\n",
              "      <td>w</td>\n",
              "      <td>u</td>\n",
              "      <td>w</td>\n",
              "      <td>t</td>\n",
              "      <td>g</td>\n",
              "      <td>NaN</td>\n",
              "      <td>d</td>\n",
              "      <td>w</td>\n",
              "    </tr>\n",
              "    <tr>\n",
              "      <th>1</th>\n",
              "      <td>p</td>\n",
              "      <td>16.60</td>\n",
              "      <td>x</td>\n",
              "      <td>g</td>\n",
              "      <td>o</td>\n",
              "      <td>f</td>\n",
              "      <td>e</td>\n",
              "      <td>NaN</td>\n",
              "      <td>w</td>\n",
              "      <td>17.99</td>\n",
              "      <td>...</td>\n",
              "      <td>s</td>\n",
              "      <td>y</td>\n",
              "      <td>w</td>\n",
              "      <td>u</td>\n",
              "      <td>w</td>\n",
              "      <td>t</td>\n",
              "      <td>g</td>\n",
              "      <td>NaN</td>\n",
              "      <td>d</td>\n",
              "      <td>u</td>\n",
              "    </tr>\n",
              "    <tr>\n",
              "      <th>2</th>\n",
              "      <td>p</td>\n",
              "      <td>14.07</td>\n",
              "      <td>x</td>\n",
              "      <td>g</td>\n",
              "      <td>o</td>\n",
              "      <td>f</td>\n",
              "      <td>e</td>\n",
              "      <td>NaN</td>\n",
              "      <td>w</td>\n",
              "      <td>17.80</td>\n",
              "      <td>...</td>\n",
              "      <td>s</td>\n",
              "      <td>y</td>\n",
              "      <td>w</td>\n",
              "      <td>u</td>\n",
              "      <td>w</td>\n",
              "      <td>t</td>\n",
              "      <td>g</td>\n",
              "      <td>NaN</td>\n",
              "      <td>d</td>\n",
              "      <td>w</td>\n",
              "    </tr>\n",
              "    <tr>\n",
              "      <th>3</th>\n",
              "      <td>p</td>\n",
              "      <td>14.17</td>\n",
              "      <td>f</td>\n",
              "      <td>h</td>\n",
              "      <td>e</td>\n",
              "      <td>f</td>\n",
              "      <td>e</td>\n",
              "      <td>NaN</td>\n",
              "      <td>w</td>\n",
              "      <td>15.77</td>\n",
              "      <td>...</td>\n",
              "      <td>s</td>\n",
              "      <td>y</td>\n",
              "      <td>w</td>\n",
              "      <td>u</td>\n",
              "      <td>w</td>\n",
              "      <td>t</td>\n",
              "      <td>p</td>\n",
              "      <td>NaN</td>\n",
              "      <td>d</td>\n",
              "      <td>w</td>\n",
              "    </tr>\n",
              "    <tr>\n",
              "      <th>4</th>\n",
              "      <td>p</td>\n",
              "      <td>14.64</td>\n",
              "      <td>x</td>\n",
              "      <td>h</td>\n",
              "      <td>o</td>\n",
              "      <td>f</td>\n",
              "      <td>e</td>\n",
              "      <td>NaN</td>\n",
              "      <td>w</td>\n",
              "      <td>16.53</td>\n",
              "      <td>...</td>\n",
              "      <td>s</td>\n",
              "      <td>y</td>\n",
              "      <td>w</td>\n",
              "      <td>u</td>\n",
              "      <td>w</td>\n",
              "      <td>t</td>\n",
              "      <td>p</td>\n",
              "      <td>NaN</td>\n",
              "      <td>d</td>\n",
              "      <td>w</td>\n",
              "    </tr>\n",
              "  </tbody>\n",
              "</table>\n",
              "<p>5 rows × 21 columns</p>\n",
              "</div>\n",
              "      <button class=\"colab-df-convert\" onclick=\"convertToInteractive('df-29fdb9d4-a3f4-4ce8-a354-dca9d178d152')\"\n",
              "              title=\"Convert this dataframe to an interactive table.\"\n",
              "              style=\"display:none;\">\n",
              "        \n",
              "  <svg xmlns=\"http://www.w3.org/2000/svg\" height=\"24px\"viewBox=\"0 0 24 24\"\n",
              "       width=\"24px\">\n",
              "    <path d=\"M0 0h24v24H0V0z\" fill=\"none\"/>\n",
              "    <path d=\"M18.56 5.44l.94 2.06.94-2.06 2.06-.94-2.06-.94-.94-2.06-.94 2.06-2.06.94zm-11 1L8.5 8.5l.94-2.06 2.06-.94-2.06-.94L8.5 2.5l-.94 2.06-2.06.94zm10 10l.94 2.06.94-2.06 2.06-.94-2.06-.94-.94-2.06-.94 2.06-2.06.94z\"/><path d=\"M17.41 7.96l-1.37-1.37c-.4-.4-.92-.59-1.43-.59-.52 0-1.04.2-1.43.59L10.3 9.45l-7.72 7.72c-.78.78-.78 2.05 0 2.83L4 21.41c.39.39.9.59 1.41.59.51 0 1.02-.2 1.41-.59l7.78-7.78 2.81-2.81c.8-.78.8-2.07 0-2.86zM5.41 20L4 18.59l7.72-7.72 1.47 1.35L5.41 20z\"/>\n",
              "  </svg>\n",
              "      </button>\n",
              "      \n",
              "  <style>\n",
              "    .colab-df-container {\n",
              "      display:flex;\n",
              "      flex-wrap:wrap;\n",
              "      gap: 12px;\n",
              "    }\n",
              "\n",
              "    .colab-df-convert {\n",
              "      background-color: #E8F0FE;\n",
              "      border: none;\n",
              "      border-radius: 50%;\n",
              "      cursor: pointer;\n",
              "      display: none;\n",
              "      fill: #1967D2;\n",
              "      height: 32px;\n",
              "      padding: 0 0 0 0;\n",
              "      width: 32px;\n",
              "    }\n",
              "\n",
              "    .colab-df-convert:hover {\n",
              "      background-color: #E2EBFA;\n",
              "      box-shadow: 0px 1px 2px rgba(60, 64, 67, 0.3), 0px 1px 3px 1px rgba(60, 64, 67, 0.15);\n",
              "      fill: #174EA6;\n",
              "    }\n",
              "\n",
              "    [theme=dark] .colab-df-convert {\n",
              "      background-color: #3B4455;\n",
              "      fill: #D2E3FC;\n",
              "    }\n",
              "\n",
              "    [theme=dark] .colab-df-convert:hover {\n",
              "      background-color: #434B5C;\n",
              "      box-shadow: 0px 1px 3px 1px rgba(0, 0, 0, 0.15);\n",
              "      filter: drop-shadow(0px 1px 2px rgba(0, 0, 0, 0.3));\n",
              "      fill: #FFFFFF;\n",
              "    }\n",
              "  </style>\n",
              "\n",
              "      <script>\n",
              "        const buttonEl =\n",
              "          document.querySelector('#df-29fdb9d4-a3f4-4ce8-a354-dca9d178d152 button.colab-df-convert');\n",
              "        buttonEl.style.display =\n",
              "          google.colab.kernel.accessAllowed ? 'block' : 'none';\n",
              "\n",
              "        async function convertToInteractive(key) {\n",
              "          const element = document.querySelector('#df-29fdb9d4-a3f4-4ce8-a354-dca9d178d152');\n",
              "          const dataTable =\n",
              "            await google.colab.kernel.invokeFunction('convertToInteractive',\n",
              "                                                     [key], {});\n",
              "          if (!dataTable) return;\n",
              "\n",
              "          const docLinkHtml = 'Like what you see? Visit the ' +\n",
              "            '<a target=\"_blank\" href=https://colab.research.google.com/notebooks/data_table.ipynb>data table notebook</a>'\n",
              "            + ' to learn more about interactive tables.';\n",
              "          element.innerHTML = '';\n",
              "          dataTable['output_type'] = 'display_data';\n",
              "          await google.colab.output.renderOutput(dataTable, element);\n",
              "          const docLink = document.createElement('div');\n",
              "          docLink.innerHTML = docLinkHtml;\n",
              "          element.appendChild(docLink);\n",
              "        }\n",
              "      </script>\n",
              "    </div>\n",
              "  </div>\n",
              "  "
            ]
          },
          "metadata": {},
          "execution_count": 17
        }
      ],
      "source": [
        "train_data = pd.read_csv('/content/drive/MyDrive/UCLA/Winter 2023/CS M148/Project 3/mushroom_train.csv', sep=';')\n",
        "test_data = pd.read_csv('/content/drive/MyDrive/UCLA/Winter 2023/CS M148/Project 3/mushroom_test.csv', sep=';')\n",
        "train_data.head()"
      ]
    },
    {
      "cell_type": "code",
      "execution_count": null,
      "metadata": {
        "id": "BZbIhb_LYWme",
        "colab": {
          "base_uri": "https://localhost:8080/"
        },
        "outputId": "24f21fd8-345e-4388-cc3b-2a553378f3e5"
      },
      "outputs": [
        {
          "output_type": "stream",
          "name": "stdout",
          "text": [
            "<class 'pandas.core.frame.DataFrame'>\n",
            "RangeIndex: 50213 entries, 0 to 50212\n",
            "Data columns (total 21 columns):\n",
            " #   Column                Non-Null Count  Dtype  \n",
            "---  ------                --------------  -----  \n",
            " 0   class                 50213 non-null  object \n",
            " 1   cap-diameter          50213 non-null  float64\n",
            " 2   cap-shape             50213 non-null  object \n",
            " 3   cap-surface           37915 non-null  object \n",
            " 4   cap-color             50213 non-null  object \n",
            " 5   does-bruise-or-bleed  50213 non-null  object \n",
            " 6   gill-attachment       42447 non-null  object \n",
            " 7   gill-spacing          31064 non-null  object \n",
            " 8   gill-color            50213 non-null  object \n",
            " 9   stem-height           50213 non-null  float64\n",
            " 10  stem-width            50213 non-null  float64\n",
            " 11  stem-root             7413 non-null   object \n",
            " 12  stem-surface          19912 non-null  object \n",
            " 13  stem-color            50213 non-null  object \n",
            " 14  veil-type             3177 non-null   object \n",
            " 15  veil-color            6297 non-null   object \n",
            " 16  has-ring              50213 non-null  object \n",
            " 17  ring-type             48448 non-null  object \n",
            " 18  spore-print-color     4532 non-null   object \n",
            " 19  habitat               50213 non-null  object \n",
            " 20  season                50213 non-null  object \n",
            "dtypes: float64(3), object(18)\n",
            "memory usage: 8.0+ MB\n"
          ]
        }
      ],
      "source": [
        "train_data.info()"
      ]
    },
    {
      "cell_type": "markdown",
      "metadata": {
        "id": "ih8bE0ke6B5H"
      },
      "source": [
        "# 2. Splitting Data into Features and Labels"
      ]
    },
    {
      "cell_type": "code",
      "execution_count": null,
      "metadata": {
        "id": "nUqdm_e0mFic"
      },
      "outputs": [],
      "source": [
        "# Only keep features that shroomster can detect!"
      ]
    },
    {
      "cell_type": "code",
      "execution_count": null,
      "metadata": {
        "id": "IzDyMZX1ZDUt",
        "colab": {
          "base_uri": "https://localhost:8080/",
          "height": 284
        },
        "outputId": "8e2fbb53-e45f-49ff-e5fd-214a6a74071b"
      },
      "outputs": [
        {
          "output_type": "execute_result",
          "data": {
            "text/plain": [
              "   cap-diameter cap-shape cap-surface cap-color does-bruise-or-bleed  \\\n",
              "0         15.26         x           g         o                    f   \n",
              "1         16.60         x           g         o                    f   \n",
              "2         14.07         x           g         o                    f   \n",
              "3         14.17         f           h         e                    f   \n",
              "4         14.64         x           h         o                    f   \n",
              "\n",
              "  gill-attachment gill-spacing gill-color  stem-height  stem-width stem-root  \\\n",
              "0               e          NaN          w        16.95       17.09         s   \n",
              "1               e          NaN          w        17.99       18.19         s   \n",
              "2               e          NaN          w        17.80       17.74         s   \n",
              "3               e          NaN          w        15.77       15.98         s   \n",
              "4               e          NaN          w        16.53       17.20         s   \n",
              "\n",
              "  stem-surface stem-color veil-type veil-color has-ring ring-type  \\\n",
              "0            y          w         u          w        t         g   \n",
              "1            y          w         u          w        t         g   \n",
              "2            y          w         u          w        t         g   \n",
              "3            y          w         u          w        t         p   \n",
              "4            y          w         u          w        t         p   \n",
              "\n",
              "  spore-print-color habitat season  \n",
              "0               NaN       d      w  \n",
              "1               NaN       d      u  \n",
              "2               NaN       d      w  \n",
              "3               NaN       d      w  \n",
              "4               NaN       d      w  "
            ],
            "text/html": [
              "\n",
              "  <div id=\"df-beff7bae-25de-462b-8cc9-f8cd104a6640\">\n",
              "    <div class=\"colab-df-container\">\n",
              "      <div>\n",
              "<style scoped>\n",
              "    .dataframe tbody tr th:only-of-type {\n",
              "        vertical-align: middle;\n",
              "    }\n",
              "\n",
              "    .dataframe tbody tr th {\n",
              "        vertical-align: top;\n",
              "    }\n",
              "\n",
              "    .dataframe thead th {\n",
              "        text-align: right;\n",
              "    }\n",
              "</style>\n",
              "<table border=\"1\" class=\"dataframe\">\n",
              "  <thead>\n",
              "    <tr style=\"text-align: right;\">\n",
              "      <th></th>\n",
              "      <th>cap-diameter</th>\n",
              "      <th>cap-shape</th>\n",
              "      <th>cap-surface</th>\n",
              "      <th>cap-color</th>\n",
              "      <th>does-bruise-or-bleed</th>\n",
              "      <th>gill-attachment</th>\n",
              "      <th>gill-spacing</th>\n",
              "      <th>gill-color</th>\n",
              "      <th>stem-height</th>\n",
              "      <th>stem-width</th>\n",
              "      <th>stem-root</th>\n",
              "      <th>stem-surface</th>\n",
              "      <th>stem-color</th>\n",
              "      <th>veil-type</th>\n",
              "      <th>veil-color</th>\n",
              "      <th>has-ring</th>\n",
              "      <th>ring-type</th>\n",
              "      <th>spore-print-color</th>\n",
              "      <th>habitat</th>\n",
              "      <th>season</th>\n",
              "    </tr>\n",
              "  </thead>\n",
              "  <tbody>\n",
              "    <tr>\n",
              "      <th>0</th>\n",
              "      <td>15.26</td>\n",
              "      <td>x</td>\n",
              "      <td>g</td>\n",
              "      <td>o</td>\n",
              "      <td>f</td>\n",
              "      <td>e</td>\n",
              "      <td>NaN</td>\n",
              "      <td>w</td>\n",
              "      <td>16.95</td>\n",
              "      <td>17.09</td>\n",
              "      <td>s</td>\n",
              "      <td>y</td>\n",
              "      <td>w</td>\n",
              "      <td>u</td>\n",
              "      <td>w</td>\n",
              "      <td>t</td>\n",
              "      <td>g</td>\n",
              "      <td>NaN</td>\n",
              "      <td>d</td>\n",
              "      <td>w</td>\n",
              "    </tr>\n",
              "    <tr>\n",
              "      <th>1</th>\n",
              "      <td>16.60</td>\n",
              "      <td>x</td>\n",
              "      <td>g</td>\n",
              "      <td>o</td>\n",
              "      <td>f</td>\n",
              "      <td>e</td>\n",
              "      <td>NaN</td>\n",
              "      <td>w</td>\n",
              "      <td>17.99</td>\n",
              "      <td>18.19</td>\n",
              "      <td>s</td>\n",
              "      <td>y</td>\n",
              "      <td>w</td>\n",
              "      <td>u</td>\n",
              "      <td>w</td>\n",
              "      <td>t</td>\n",
              "      <td>g</td>\n",
              "      <td>NaN</td>\n",
              "      <td>d</td>\n",
              "      <td>u</td>\n",
              "    </tr>\n",
              "    <tr>\n",
              "      <th>2</th>\n",
              "      <td>14.07</td>\n",
              "      <td>x</td>\n",
              "      <td>g</td>\n",
              "      <td>o</td>\n",
              "      <td>f</td>\n",
              "      <td>e</td>\n",
              "      <td>NaN</td>\n",
              "      <td>w</td>\n",
              "      <td>17.80</td>\n",
              "      <td>17.74</td>\n",
              "      <td>s</td>\n",
              "      <td>y</td>\n",
              "      <td>w</td>\n",
              "      <td>u</td>\n",
              "      <td>w</td>\n",
              "      <td>t</td>\n",
              "      <td>g</td>\n",
              "      <td>NaN</td>\n",
              "      <td>d</td>\n",
              "      <td>w</td>\n",
              "    </tr>\n",
              "    <tr>\n",
              "      <th>3</th>\n",
              "      <td>14.17</td>\n",
              "      <td>f</td>\n",
              "      <td>h</td>\n",
              "      <td>e</td>\n",
              "      <td>f</td>\n",
              "      <td>e</td>\n",
              "      <td>NaN</td>\n",
              "      <td>w</td>\n",
              "      <td>15.77</td>\n",
              "      <td>15.98</td>\n",
              "      <td>s</td>\n",
              "      <td>y</td>\n",
              "      <td>w</td>\n",
              "      <td>u</td>\n",
              "      <td>w</td>\n",
              "      <td>t</td>\n",
              "      <td>p</td>\n",
              "      <td>NaN</td>\n",
              "      <td>d</td>\n",
              "      <td>w</td>\n",
              "    </tr>\n",
              "    <tr>\n",
              "      <th>4</th>\n",
              "      <td>14.64</td>\n",
              "      <td>x</td>\n",
              "      <td>h</td>\n",
              "      <td>o</td>\n",
              "      <td>f</td>\n",
              "      <td>e</td>\n",
              "      <td>NaN</td>\n",
              "      <td>w</td>\n",
              "      <td>16.53</td>\n",
              "      <td>17.20</td>\n",
              "      <td>s</td>\n",
              "      <td>y</td>\n",
              "      <td>w</td>\n",
              "      <td>u</td>\n",
              "      <td>w</td>\n",
              "      <td>t</td>\n",
              "      <td>p</td>\n",
              "      <td>NaN</td>\n",
              "      <td>d</td>\n",
              "      <td>w</td>\n",
              "    </tr>\n",
              "  </tbody>\n",
              "</table>\n",
              "</div>\n",
              "      <button class=\"colab-df-convert\" onclick=\"convertToInteractive('df-beff7bae-25de-462b-8cc9-f8cd104a6640')\"\n",
              "              title=\"Convert this dataframe to an interactive table.\"\n",
              "              style=\"display:none;\">\n",
              "        \n",
              "  <svg xmlns=\"http://www.w3.org/2000/svg\" height=\"24px\"viewBox=\"0 0 24 24\"\n",
              "       width=\"24px\">\n",
              "    <path d=\"M0 0h24v24H0V0z\" fill=\"none\"/>\n",
              "    <path d=\"M18.56 5.44l.94 2.06.94-2.06 2.06-.94-2.06-.94-.94-2.06-.94 2.06-2.06.94zm-11 1L8.5 8.5l.94-2.06 2.06-.94-2.06-.94L8.5 2.5l-.94 2.06-2.06.94zm10 10l.94 2.06.94-2.06 2.06-.94-2.06-.94-.94-2.06-.94 2.06-2.06.94z\"/><path d=\"M17.41 7.96l-1.37-1.37c-.4-.4-.92-.59-1.43-.59-.52 0-1.04.2-1.43.59L10.3 9.45l-7.72 7.72c-.78.78-.78 2.05 0 2.83L4 21.41c.39.39.9.59 1.41.59.51 0 1.02-.2 1.41-.59l7.78-7.78 2.81-2.81c.8-.78.8-2.07 0-2.86zM5.41 20L4 18.59l7.72-7.72 1.47 1.35L5.41 20z\"/>\n",
              "  </svg>\n",
              "      </button>\n",
              "      \n",
              "  <style>\n",
              "    .colab-df-container {\n",
              "      display:flex;\n",
              "      flex-wrap:wrap;\n",
              "      gap: 12px;\n",
              "    }\n",
              "\n",
              "    .colab-df-convert {\n",
              "      background-color: #E8F0FE;\n",
              "      border: none;\n",
              "      border-radius: 50%;\n",
              "      cursor: pointer;\n",
              "      display: none;\n",
              "      fill: #1967D2;\n",
              "      height: 32px;\n",
              "      padding: 0 0 0 0;\n",
              "      width: 32px;\n",
              "    }\n",
              "\n",
              "    .colab-df-convert:hover {\n",
              "      background-color: #E2EBFA;\n",
              "      box-shadow: 0px 1px 2px rgba(60, 64, 67, 0.3), 0px 1px 3px 1px rgba(60, 64, 67, 0.15);\n",
              "      fill: #174EA6;\n",
              "    }\n",
              "\n",
              "    [theme=dark] .colab-df-convert {\n",
              "      background-color: #3B4455;\n",
              "      fill: #D2E3FC;\n",
              "    }\n",
              "\n",
              "    [theme=dark] .colab-df-convert:hover {\n",
              "      background-color: #434B5C;\n",
              "      box-shadow: 0px 1px 3px 1px rgba(0, 0, 0, 0.15);\n",
              "      filter: drop-shadow(0px 1px 2px rgba(0, 0, 0, 0.3));\n",
              "      fill: #FFFFFF;\n",
              "    }\n",
              "  </style>\n",
              "\n",
              "      <script>\n",
              "        const buttonEl =\n",
              "          document.querySelector('#df-beff7bae-25de-462b-8cc9-f8cd104a6640 button.colab-df-convert');\n",
              "        buttonEl.style.display =\n",
              "          google.colab.kernel.accessAllowed ? 'block' : 'none';\n",
              "\n",
              "        async function convertToInteractive(key) {\n",
              "          const element = document.querySelector('#df-beff7bae-25de-462b-8cc9-f8cd104a6640');\n",
              "          const dataTable =\n",
              "            await google.colab.kernel.invokeFunction('convertToInteractive',\n",
              "                                                     [key], {});\n",
              "          if (!dataTable) return;\n",
              "\n",
              "          const docLinkHtml = 'Like what you see? Visit the ' +\n",
              "            '<a target=\"_blank\" href=https://colab.research.google.com/notebooks/data_table.ipynb>data table notebook</a>'\n",
              "            + ' to learn more about interactive tables.';\n",
              "          element.innerHTML = '';\n",
              "          dataTable['output_type'] = 'display_data';\n",
              "          await google.colab.output.renderOutput(dataTable, element);\n",
              "          const docLink = document.createElement('div');\n",
              "          docLink.innerHTML = docLinkHtml;\n",
              "          element.appendChild(docLink);\n",
              "        }\n",
              "      </script>\n",
              "    </div>\n",
              "  </div>\n",
              "  "
            ]
          },
          "metadata": {},
          "execution_count": 20
        }
      ],
      "source": [
        "train_labels = train_data['class'].copy()\n",
        "del train_data['class']\n",
        "test_labels = test_data['class'].copy()\n",
        "del test_data['class']\n",
        "train_data.head()"
      ]
    },
    {
      "cell_type": "markdown",
      "metadata": {
        "id": "F0lxPkOv6N5z"
      },
      "source": [
        "# 3. Data Exploration and Visualization"
      ]
    },
    {
      "cell_type": "code",
      "execution_count": null,
      "metadata": {
        "id": "ElKT93Lsd-w2"
      },
      "outputs": [],
      "source": [
        "# Hint: We have done this in both project 1 & 2\n",
        "\n",
        "import matplotlib.pyplot as plt\n",
        "import plotly.express as px\n",
        "import sklearn"
      ]
    },
    {
      "cell_type": "code",
      "source": [
        "train_labels.value_counts().plot(kind='bar')"
      ],
      "metadata": {
        "colab": {
          "base_uri": "https://localhost:8080/",
          "height": 279
        },
        "id": "6Ewlo9wK6tcz",
        "outputId": "e528ed62-8b4d-47f4-91a0-b175cd32ada9"
      },
      "execution_count": null,
      "outputs": [
        {
          "output_type": "execute_result",
          "data": {
            "text/plain": [
              "<AxesSubplot:>"
            ]
          },
          "metadata": {},
          "execution_count": 58
        },
        {
          "output_type": "display_data",
          "data": {
            "text/plain": [
              "<Figure size 432x288 with 1 Axes>"
            ],
            "image/png": "[encoded data removed]"
          },
          "metadata": {
            "needs_background": "light"
          }
        }
      ]
    },
    {
      "cell_type": "code",
      "source": [
        "num_cols = [col for col in train_data.columns if train_data[col].dtype != object]\n",
        "num_df = pd.DataFrame(train_data[num_cols])\n",
        "num_df.hist(figsize=(15,10));"
      ],
      "metadata": {
        "colab": {
          "base_uri": "https://localhost:8080/",
          "height": 608
        },
        "id": "JQpHrJWtfZ1Z",
        "outputId": "0eec9b2e-9ca1-428c-9ac7-ccb0a066db36"
      },
      "execution_count": null,
      "outputs": [
        {
          "output_type": "display_data",
          "data": {
            "text/plain": [
              "<Figure size 1080x720 with 4 Axes>"
            ],
            "image/png": "[encoded data removed]"
          },
          "metadata": {
            "needs_background": "light"
          }
        }
      ]
    },
    {
      "cell_type": "code",
      "source": [
        "import seaborn as sns\n",
        "\n",
        "sns.heatmap(train_data.corr())"
      ],
      "metadata": {
        "colab": {
          "base_uri": "https://localhost:8080/",
          "height": 286
        },
        "id": "WL4W92L1ixwG",
        "outputId": "a1a52ebd-3550-490d-bb61-c4aed5390757"
      },
      "execution_count": null,
      "outputs": [
        {
          "output_type": "execute_result",
          "data": {
            "text/plain": [
              "<AxesSubplot:>"
            ]
          },
          "metadata": {},
          "execution_count": 23
        },
        {
          "output_type": "display_data",
          "data": {
            "text/plain": [
              "<Figure size 432x288 with 2 Axes>"
            ],
            "image/png": "[encoded data removed]"
          },
          "metadata": {
            "needs_background": "light"
          }
        }
      ]
    },
    {
      "cell_type": "code",
      "source": [
        "sns.countplot(data = train_data, x = \"cap-shape\", hue = \"cap-surface\")"
      ],
      "metadata": {
        "colab": {
          "base_uri": "https://localhost:8080/",
          "height": 296
        },
        "id": "q-dvy9S0yugZ",
        "outputId": "07ac5e51-9b3b-460a-d440-b5a056f94164"
      },
      "execution_count": null,
      "outputs": [
        {
          "output_type": "execute_result",
          "data": {
            "text/plain": [
              "<AxesSubplot:xlabel='cap-shape', ylabel='count'>"
            ]
          },
          "metadata": {},
          "execution_count": 31
        },
        {
          "output_type": "display_data",
          "data": {
            "text/plain": [
              "<Figure size 432x288 with 1 Axes>"
            ],
            "image/png": "[encoded data removed]"
          },
          "metadata": {
            "needs_background": "light"
          }
        }
      ]
    },
    {
      "cell_type": "code",
      "source": [
        "train_data['cap-color'].value_counts().plot(kind='bar')"
      ],
      "metadata": {
        "colab": {
          "base_uri": "https://localhost:8080/",
          "height": 280
        },
        "id": "ohE8euCb1b9m",
        "outputId": "7dc17485-b3b2-4c4c-fd8d-df40e2306f71"
      },
      "execution_count": null,
      "outputs": [
        {
          "output_type": "execute_result",
          "data": {
            "text/plain": [
              "<AxesSubplot:>"
            ]
          },
          "metadata": {},
          "execution_count": 46
        },
        {
          "output_type": "display_data",
          "data": {
            "text/plain": [
              "<Figure size 432x288 with 1 Axes>"
            ],
            "image/png": "[encoded data removed]"
          },
          "metadata": {
            "needs_background": "light"
          }
        }
      ]
    },
    {
      "cell_type": "code",
      "source": [
        "train_data['has-ring'].value_counts().plot(kind='pie')"
      ],
      "metadata": {
        "colab": {
          "base_uri": "https://localhost:8080/",
          "height": 265
        },
        "id": "67lIfqZ01425",
        "outputId": "eb694d95-abe6-4051-c443-bc873aae5695"
      },
      "execution_count": null,
      "outputs": [
        {
          "output_type": "execute_result",
          "data": {
            "text/plain": [
              "<AxesSubplot:ylabel='has-ring'>"
            ]
          },
          "metadata": {},
          "execution_count": 50
        },
        {
          "output_type": "display_data",
          "data": {
            "text/plain": [
              "<Figure size 432x288 with 1 Axes>"
            ],
            "image/png": "[encoded data removed]"
          },
          "metadata": {}
        }
      ]
    },
    {
      "cell_type": "code",
      "source": [
        "train_data['ring-type'].value_counts().plot(kind='bar')"
      ],
      "metadata": {
        "colab": {
          "base_uri": "https://localhost:8080/",
          "height": 282
        },
        "id": "jJ_rPQ9D1m1q",
        "outputId": "88e09db3-a3d7-49b7-9df4-ed843c5e1fd1"
      },
      "execution_count": null,
      "outputs": [
        {
          "output_type": "execute_result",
          "data": {
            "text/plain": [
              "<AxesSubplot:>"
            ]
          },
          "metadata": {},
          "execution_count": 47
        },
        {
          "output_type": "display_data",
          "data": {
            "text/plain": [
              "<Figure size 432x288 with 1 Axes>"
            ],
            "image/png": "[encoded data removed]"
          },
          "metadata": {
            "needs_background": "light"
          }
        }
      ]
    },
    {
      "cell_type": "code",
      "source": [
        "sns.countplot(data = train_data, x = \"season\", hue = \"habitat\")"
      ],
      "metadata": {
        "colab": {
          "base_uri": "https://localhost:8080/",
          "height": 296
        },
        "id": "2RjK0MyRvNF7",
        "outputId": "7612047b-4745-42f9-b892-98efae1e4964"
      },
      "execution_count": null,
      "outputs": [
        {
          "output_type": "execute_result",
          "data": {
            "text/plain": [
              "<AxesSubplot:xlabel='season', ylabel='count'>"
            ]
          },
          "metadata": {},
          "execution_count": 28
        },
        {
          "output_type": "display_data",
          "data": {
            "text/plain": [
              "<Figure size 432x288 with 1 Axes>"
            ],
            "image/png": "[encoded data removed]"
          },
          "metadata": {
            "needs_background": "light"
          }
        }
      ]
    },
    {
      "cell_type": "markdown",
      "metadata": {
        "id": "zwsD1gQm6WA1"
      },
      "source": [
        "# 4. Data Processing"
      ]
    },
    {
      "cell_type": "code",
      "execution_count": null,
      "metadata": {
        "id": "ZgJ6qgOijCxa"
      },
      "outputs": [],
      "source": [
        "# Hints:\n",
        "# 1. Convert the \"class\" column into labels: 'p' (poisonous) -> 0,  'e' (edible) -> 1\n",
        "# 2. You can drop columns if you see fit\n",
        "# 3. See any imcomplete data? We learned how to deal with them in project 1.\n",
        "\n",
        "from sklearn.pipeline import Pipeline\n",
        "from sklearn.preprocessing import LabelEncoder\n",
        "from sklearn.compose import ColumnTransformer, make_column_transformer"
      ]
    },
    {
      "cell_type": "code",
      "execution_count": null,
      "metadata": {
        "id": "wlhwjIhBlSmK"
      },
      "outputs": [],
      "source": [
        "train_labels = [0 if i == 'p' else 1 for i in train_labels]\n",
        "test_labels = [0 if i == 'p' else 1 for i in test_labels]"
      ]
    },
    {
      "cell_type": "code",
      "execution_count": null,
      "metadata": {
        "id": "mnmgGL0qct9P",
        "colab": {
          "base_uri": "https://localhost:8080/"
        },
        "outputId": "ea82178d-b223-404a-cdd1-d912cc0e0da3"
      },
      "outputs": [
        {
          "output_type": "execute_result",
          "data": {
            "text/plain": [
              "['stem-root', 'stem-surface', 'veil-type', 'veil-color', 'spore-print-color']"
            ]
          },
          "metadata": {},
          "execution_count": 72
        }
      ],
      "source": [
        "null_cols = train_data.isnull().sum()\n",
        "deleted_cols = []\n",
        "for col in train_data.columns:\n",
        "  if null_cols[col] >= len(train_data) / 2:\n",
        "    deleted_cols.append(col)\n",
        "    del train_data[col]\n",
        "deleted_cols"
      ]
    },
    {
      "cell_type": "code",
      "execution_count": null,
      "metadata": {
        "id": "XvgP0BiKj0IX",
        "colab": {
          "base_uri": "https://localhost:8080/",
          "height": 267
        },
        "outputId": "4b18f267-493b-485b-ec7c-2742f2d4b9f4"
      },
      "outputs": [
        {
          "output_type": "execute_result",
          "data": {
            "text/plain": [
              "   cap-diameter cap-shape cap-surface cap-color does-bruise-or-bleed  \\\n",
              "0         15.26         x           g         o                    f   \n",
              "1         16.60         x           g         o                    f   \n",
              "2         14.07         x           g         o                    f   \n",
              "3         14.17         f           h         e                    f   \n",
              "4         14.64         x           h         o                    f   \n",
              "\n",
              "  gill-attachment gill-spacing gill-color  stem-height  stem-width stem-color  \\\n",
              "0               e            c          w        16.95       17.09          w   \n",
              "1               e            c          w        17.99       18.19          w   \n",
              "2               e            c          w        17.80       17.74          w   \n",
              "3               e            c          w        15.77       15.98          w   \n",
              "4               e            c          w        16.53       17.20          w   \n",
              "\n",
              "  has-ring ring-type habitat season  \n",
              "0        t         g       d      w  \n",
              "1        t         g       d      u  \n",
              "2        t         g       d      w  \n",
              "3        t         p       d      w  \n",
              "4        t         p       d      w  "
            ],
            "text/html": [
              "\n",
              "  <div id=\"df-56c88ac2-015c-4fcf-858a-f3e6074d8a8c\">\n",
              "    <div class=\"colab-df-container\">\n",
              "      <div>\n",
              "<style scoped>\n",
              "    .dataframe tbody tr th:only-of-type {\n",
              "        vertical-align: middle;\n",
              "    }\n",
              "\n",
              "    .dataframe tbody tr th {\n",
              "        vertical-align: top;\n",
              "    }\n",
              "\n",
              "    .dataframe thead th {\n",
              "        text-align: right;\n",
              "    }\n",
              "</style>\n",
              "<table border=\"1\" class=\"dataframe\">\n",
              "  <thead>\n",
              "    <tr style=\"text-align: right;\">\n",
              "      <th></th>\n",
              "      <th>cap-diameter</th>\n",
              "      <th>cap-shape</th>\n",
              "      <th>cap-surface</th>\n",
              "      <th>cap-color</th>\n",
              "      <th>does-bruise-or-bleed</th>\n",
              "      <th>gill-attachment</th>\n",
              "      <th>gill-spacing</th>\n",
              "      <th>gill-color</th>\n",
              "      <th>stem-height</th>\n",
              "      <th>stem-width</th>\n",
              "      <th>stem-color</th>\n",
              "      <th>has-ring</th>\n",
              "      <th>ring-type</th>\n",
              "      <th>habitat</th>\n",
              "      <th>season</th>\n",
              "    </tr>\n",
              "  </thead>\n",
              "  <tbody>\n",
              "    <tr>\n",
              "      <th>0</th>\n",
              "      <td>15.26</td>\n",
              "      <td>x</td>\n",
              "      <td>g</td>\n",
              "      <td>o</td>\n",
              "      <td>f</td>\n",
              "      <td>e</td>\n",
              "      <td>c</td>\n",
              "      <td>w</td>\n",
              "      <td>16.95</td>\n",
              "      <td>17.09</td>\n",
              "      <td>w</td>\n",
              "      <td>t</td>\n",
              "      <td>g</td>\n",
              "      <td>d</td>\n",
              "      <td>w</td>\n",
              "    </tr>\n",
              "    <tr>\n",
              "      <th>1</th>\n",
              "      <td>16.60</td>\n",
              "      <td>x</td>\n",
              "      <td>g</td>\n",
              "      <td>o</td>\n",
              "      <td>f</td>\n",
              "      <td>e</td>\n",
              "      <td>c</td>\n",
              "      <td>w</td>\n",
              "      <td>17.99</td>\n",
              "      <td>18.19</td>\n",
              "      <td>w</td>\n",
              "      <td>t</td>\n",
              "      <td>g</td>\n",
              "      <td>d</td>\n",
              "      <td>u</td>\n",
              "    </tr>\n",
              "    <tr>\n",
              "      <th>2</th>\n",
              "      <td>14.07</td>\n",
              "      <td>x</td>\n",
              "      <td>g</td>\n",
              "      <td>o</td>\n",
              "      <td>f</td>\n",
              "      <td>e</td>\n",
              "      <td>c</td>\n",
              "      <td>w</td>\n",
              "      <td>17.80</td>\n",
              "      <td>17.74</td>\n",
              "      <td>w</td>\n",
              "      <td>t</td>\n",
              "      <td>g</td>\n",
              "      <td>d</td>\n",
              "      <td>w</td>\n",
              "    </tr>\n",
              "    <tr>\n",
              "      <th>3</th>\n",
              "      <td>14.17</td>\n",
              "      <td>f</td>\n",
              "      <td>h</td>\n",
              "      <td>e</td>\n",
              "      <td>f</td>\n",
              "      <td>e</td>\n",
              "      <td>c</td>\n",
              "      <td>w</td>\n",
              "      <td>15.77</td>\n",
              "      <td>15.98</td>\n",
              "      <td>w</td>\n",
              "      <td>t</td>\n",
              "      <td>p</td>\n",
              "      <td>d</td>\n",
              "      <td>w</td>\n",
              "    </tr>\n",
              "    <tr>\n",
              "      <th>4</th>\n",
              "      <td>14.64</td>\n",
              "      <td>x</td>\n",
              "      <td>h</td>\n",
              "      <td>o</td>\n",
              "      <td>f</td>\n",
              "      <td>e</td>\n",
              "      <td>c</td>\n",
              "      <td>w</td>\n",
              "      <td>16.53</td>\n",
              "      <td>17.20</td>\n",
              "      <td>w</td>\n",
              "      <td>t</td>\n",
              "      <td>p</td>\n",
              "      <td>d</td>\n",
              "      <td>w</td>\n",
              "    </tr>\n",
              "  </tbody>\n",
              "</table>\n",
              "</div>\n",
              "      <button class=\"colab-df-convert\" onclick=\"convertToInteractive('df-56c88ac2-015c-4fcf-858a-f3e6074d8a8c')\"\n",
              "              title=\"Convert this dataframe to an interactive table.\"\n",
              "              style=\"display:none;\">\n",
              "        \n",
              "  <svg xmlns=\"http://www.w3.org/2000/svg\" height=\"24px\"viewBox=\"0 0 24 24\"\n",
              "       width=\"24px\">\n",
              "    <path d=\"M0 0h24v24H0V0z\" fill=\"none\"/>\n",
              "    <path d=\"M18.56 5.44l.94 2.06.94-2.06 2.06-.94-2.06-.94-.94-2.06-.94 2.06-2.06.94zm-11 1L8.5 8.5l.94-2.06 2.06-.94-2.06-.94L8.5 2.5l-.94 2.06-2.06.94zm10 10l.94 2.06.94-2.06 2.06-.94-2.06-.94-.94-2.06-.94 2.06-2.06.94z\"/><path d=\"M17.41 7.96l-1.37-1.37c-.4-.4-.92-.59-1.43-.59-.52 0-1.04.2-1.43.59L10.3 9.45l-7.72 7.72c-.78.78-.78 2.05 0 2.83L4 21.41c.39.39.9.59 1.41.59.51 0 1.02-.2 1.41-.59l7.78-7.78 2.81-2.81c.8-.78.8-2.07 0-2.86zM5.41 20L4 18.59l7.72-7.72 1.47 1.35L5.41 20z\"/>\n",
              "  </svg>\n",
              "      </button>\n",
              "      \n",
              "  <style>\n",
              "    .colab-df-container {\n",
              "      display:flex;\n",
              "      flex-wrap:wrap;\n",
              "      gap: 12px;\n",
              "    }\n",
              "\n",
              "    .colab-df-convert {\n",
              "      background-color: #E8F0FE;\n",
              "      border: none;\n",
              "      border-radius: 50%;\n",
              "      cursor: pointer;\n",
              "      display: none;\n",
              "      fill: #1967D2;\n",
              "      height: 32px;\n",
              "      padding: 0 0 0 0;\n",
              "      width: 32px;\n",
              "    }\n",
              "\n",
              "    .colab-df-convert:hover {\n",
              "      background-color: #E2EBFA;\n",
              "      box-shadow: 0px 1px 2px rgba(60, 64, 67, 0.3), 0px 1px 3px 1px rgba(60, 64, 67, 0.15);\n",
              "      fill: #174EA6;\n",
              "    }\n",
              "\n",
              "    [theme=dark] .colab-df-convert {\n",
              "      background-color: #3B4455;\n",
              "      fill: #D2E3FC;\n",
              "    }\n",
              "\n",
              "    [theme=dark] .colab-df-convert:hover {\n",
              "      background-color: #434B5C;\n",
              "      box-shadow: 0px 1px 3px 1px rgba(0, 0, 0, 0.15);\n",
              "      filter: drop-shadow(0px 1px 2px rgba(0, 0, 0, 0.3));\n",
              "      fill: #FFFFFF;\n",
              "    }\n",
              "  </style>\n",
              "\n",
              "      <script>\n",
              "        const buttonEl =\n",
              "          document.querySelector('#df-56c88ac2-015c-4fcf-858a-f3e6074d8a8c button.colab-df-convert');\n",
              "        buttonEl.style.display =\n",
              "          google.colab.kernel.accessAllowed ? 'block' : 'none';\n",
              "\n",
              "        async function convertToInteractive(key) {\n",
              "          const element = document.querySelector('#df-56c88ac2-015c-4fcf-858a-f3e6074d8a8c');\n",
              "          const dataTable =\n",
              "            await google.colab.kernel.invokeFunction('convertToInteractive',\n",
              "                                                     [key], {});\n",
              "          if (!dataTable) return;\n",
              "\n",
              "          const docLinkHtml = 'Like what you see? Visit the ' +\n",
              "            '<a target=\"_blank\" href=https://colab.research.google.com/notebooks/data_table.ipynb>data table notebook</a>'\n",
              "            + ' to learn more about interactive tables.';\n",
              "          element.innerHTML = '';\n",
              "          dataTable['output_type'] = 'display_data';\n",
              "          await google.colab.output.renderOutput(dataTable, element);\n",
              "          const docLink = document.createElement('div');\n",
              "          docLink.innerHTML = docLinkHtml;\n",
              "          element.appendChild(docLink);\n",
              "        }\n",
              "      </script>\n",
              "    </div>\n",
              "  </div>\n",
              "  "
            ]
          },
          "metadata": {},
          "execution_count": 73
        }
      ],
      "source": [
        "nulls = train_data.columns[train_data.isnull().any()].tolist()\n",
        "modes = train_data.mode()\n",
        "for i in nulls:\n",
        "  train_data[i] = train_data[i].fillna(modes[i][0])\n",
        "  test_data[i] = test_data[i].fillna(modes[i][0])\n",
        "train_data.head()"
      ]
    },
    {
      "cell_type": "markdown",
      "metadata": {
        "id": "ZXY_GJc6ASh3"
      },
      "source": [
        "# 5. Data Augmentation (Creating at least 2 New Features)"
      ]
    },
    {
      "cell_type": "code",
      "execution_count": null,
      "metadata": {
        "id": "1_FXGszIemzz",
        "colab": {
          "base_uri": "https://localhost:8080/",
          "height": 267
        },
        "outputId": "2efa3ef8-3c85-4f11-d4e2-9122278eaa99"
      },
      "outputs": [
        {
          "output_type": "execute_result",
          "data": {
            "text/plain": [
              "   cap-diameter cap-shape cap-surface cap-color does-bruise-or-bleed  \\\n",
              "0         15.26         x           g         o                    f   \n",
              "1         16.60         x           g         o                    f   \n",
              "2         14.07         x           g         o                    f   \n",
              "3         14.17         f           h         e                    f   \n",
              "4         14.64         x           h         o                    f   \n",
              "\n",
              "  gill-attachment gill-spacing gill-color  stem-height  stem-width stem-color  \\\n",
              "0               e            c          w        16.95       17.09          w   \n",
              "1               e            c          w        17.99       18.19          w   \n",
              "2               e            c          w        17.80       17.74          w   \n",
              "3               e            c          w        15.77       15.98          w   \n",
              "4               e            c          w        16.53       17.20          w   \n",
              "\n",
              "  has-ring ring-type habitat season  stem-volume  cap-surface-area  \n",
              "0        t         g       d      w    38.881563        182.893785  \n",
              "1        t         g       d      u    46.750520        216.424318  \n",
              "2        t         g       d      w    43.996397        155.481269  \n",
              "3        t         p       d      w    31.628247        157.699233  \n",
              "4        t         p       d      w    38.407817        168.334074  "
            ],
            "text/html": [
              "\n",
              "  <div id=\"df-4c035165-db97-4a0f-be52-a0dba7e57ead\">\n",
              "    <div class=\"colab-df-container\">\n",
              "      <div>\n",
              "<style scoped>\n",
              "    .dataframe tbody tr th:only-of-type {\n",
              "        vertical-align: middle;\n",
              "    }\n",
              "\n",
              "    .dataframe tbody tr th {\n",
              "        vertical-align: top;\n",
              "    }\n",
              "\n",
              "    .dataframe thead th {\n",
              "        text-align: right;\n",
              "    }\n",
              "</style>\n",
              "<table border=\"1\" class=\"dataframe\">\n",
              "  <thead>\n",
              "    <tr style=\"text-align: right;\">\n",
              "      <th></th>\n",
              "      <th>cap-diameter</th>\n",
              "      <th>cap-shape</th>\n",
              "      <th>cap-surface</th>\n",
              "      <th>cap-color</th>\n",
              "      <th>does-bruise-or-bleed</th>\n",
              "      <th>gill-attachment</th>\n",
              "      <th>gill-spacing</th>\n",
              "      <th>gill-color</th>\n",
              "      <th>stem-height</th>\n",
              "      <th>stem-width</th>\n",
              "      <th>stem-color</th>\n",
              "      <th>has-ring</th>\n",
              "      <th>ring-type</th>\n",
              "      <th>habitat</th>\n",
              "      <th>season</th>\n",
              "      <th>stem-volume</th>\n",
              "      <th>cap-surface-area</th>\n",
              "    </tr>\n",
              "  </thead>\n",
              "  <tbody>\n",
              "    <tr>\n",
              "      <th>0</th>\n",
              "      <td>15.26</td>\n",
              "      <td>x</td>\n",
              "      <td>g</td>\n",
              "      <td>o</td>\n",
              "      <td>f</td>\n",
              "      <td>e</td>\n",
              "      <td>c</td>\n",
              "      <td>w</td>\n",
              "      <td>16.95</td>\n",
              "      <td>17.09</td>\n",
              "      <td>w</td>\n",
              "      <td>t</td>\n",
              "      <td>g</td>\n",
              "      <td>d</td>\n",
              "      <td>w</td>\n",
              "      <td>38.881563</td>\n",
              "      <td>182.893785</td>\n",
              "    </tr>\n",
              "    <tr>\n",
              "      <th>1</th>\n",
              "      <td>16.60</td>\n",
              "      <td>x</td>\n",
              "      <td>g</td>\n",
              "      <td>o</td>\n",
              "      <td>f</td>\n",
              "      <td>e</td>\n",
              "      <td>c</td>\n",
              "      <td>w</td>\n",
              "      <td>17.99</td>\n",
              "      <td>18.19</td>\n",
              "      <td>w</td>\n",
              "      <td>t</td>\n",
              "      <td>g</td>\n",
              "      <td>d</td>\n",
              "      <td>u</td>\n",
              "      <td>46.750520</td>\n",
              "      <td>216.424318</td>\n",
              "    </tr>\n",
              "    <tr>\n",
              "      <th>2</th>\n",
              "      <td>14.07</td>\n",
              "      <td>x</td>\n",
              "      <td>g</td>\n",
              "      <td>o</td>\n",
              "      <td>f</td>\n",
              "      <td>e</td>\n",
              "      <td>c</td>\n",
              "      <td>w</td>\n",
              "      <td>17.80</td>\n",
              "      <td>17.74</td>\n",
              "      <td>w</td>\n",
              "      <td>t</td>\n",
              "      <td>g</td>\n",
              "      <td>d</td>\n",
              "      <td>w</td>\n",
              "      <td>43.996397</td>\n",
              "      <td>155.481269</td>\n",
              "    </tr>\n",
              "    <tr>\n",
              "      <th>3</th>\n",
              "      <td>14.17</td>\n",
              "      <td>f</td>\n",
              "      <td>h</td>\n",
              "      <td>e</td>\n",
              "      <td>f</td>\n",
              "      <td>e</td>\n",
              "      <td>c</td>\n",
              "      <td>w</td>\n",
              "      <td>15.77</td>\n",
              "      <td>15.98</td>\n",
              "      <td>w</td>\n",
              "      <td>t</td>\n",
              "      <td>p</td>\n",
              "      <td>d</td>\n",
              "      <td>w</td>\n",
              "      <td>31.628247</td>\n",
              "      <td>157.699233</td>\n",
              "    </tr>\n",
              "    <tr>\n",
              "      <th>4</th>\n",
              "      <td>14.64</td>\n",
              "      <td>x</td>\n",
              "      <td>h</td>\n",
              "      <td>o</td>\n",
              "      <td>f</td>\n",
              "      <td>e</td>\n",
              "      <td>c</td>\n",
              "      <td>w</td>\n",
              "      <td>16.53</td>\n",
              "      <td>17.20</td>\n",
              "      <td>w</td>\n",
              "      <td>t</td>\n",
              "      <td>p</td>\n",
              "      <td>d</td>\n",
              "      <td>w</td>\n",
              "      <td>38.407817</td>\n",
              "      <td>168.334074</td>\n",
              "    </tr>\n",
              "  </tbody>\n",
              "</table>\n",
              "</div>\n",
              "      <button class=\"colab-df-convert\" onclick=\"convertToInteractive('df-4c035165-db97-4a0f-be52-a0dba7e57ead')\"\n",
              "              title=\"Convert this dataframe to an interactive table.\"\n",
              "              style=\"display:none;\">\n",
              "        \n",
              "  <svg xmlns=\"http://www.w3.org/2000/svg\" height=\"24px\"viewBox=\"0 0 24 24\"\n",
              "       width=\"24px\">\n",
              "    <path d=\"M0 0h24v24H0V0z\" fill=\"none\"/>\n",
              "    <path d=\"M18.56 5.44l.94 2.06.94-2.06 2.06-.94-2.06-.94-.94-2.06-.94 2.06-2.06.94zm-11 1L8.5 8.5l.94-2.06 2.06-.94-2.06-.94L8.5 2.5l-.94 2.06-2.06.94zm10 10l.94 2.06.94-2.06 2.06-.94-2.06-.94-.94-2.06-.94 2.06-2.06.94z\"/><path d=\"M17.41 7.96l-1.37-1.37c-.4-.4-.92-.59-1.43-.59-.52 0-1.04.2-1.43.59L10.3 9.45l-7.72 7.72c-.78.78-.78 2.05 0 2.83L4 21.41c.39.39.9.59 1.41.59.51 0 1.02-.2 1.41-.59l7.78-7.78 2.81-2.81c.8-.78.8-2.07 0-2.86zM5.41 20L4 18.59l7.72-7.72 1.47 1.35L5.41 20z\"/>\n",
              "  </svg>\n",
              "      </button>\n",
              "      \n",
              "  <style>\n",
              "    .colab-df-container {\n",
              "      display:flex;\n",
              "      flex-wrap:wrap;\n",
              "      gap: 12px;\n",
              "    }\n",
              "\n",
              "    .colab-df-convert {\n",
              "      background-color: #E8F0FE;\n",
              "      border: none;\n",
              "      border-radius: 50%;\n",
              "      cursor: pointer;\n",
              "      display: none;\n",
              "      fill: #1967D2;\n",
              "      height: 32px;\n",
              "      padding: 0 0 0 0;\n",
              "      width: 32px;\n",
              "    }\n",
              "\n",
              "    .colab-df-convert:hover {\n",
              "      background-color: #E2EBFA;\n",
              "      box-shadow: 0px 1px 2px rgba(60, 64, 67, 0.3), 0px 1px 3px 1px rgba(60, 64, 67, 0.15);\n",
              "      fill: #174EA6;\n",
              "    }\n",
              "\n",
              "    [theme=dark] .colab-df-convert {\n",
              "      background-color: #3B4455;\n",
              "      fill: #D2E3FC;\n",
              "    }\n",
              "\n",
              "    [theme=dark] .colab-df-convert:hover {\n",
              "      background-color: #434B5C;\n",
              "      box-shadow: 0px 1px 3px 1px rgba(0, 0, 0, 0.15);\n",
              "      filter: drop-shadow(0px 1px 2px rgba(0, 0, 0, 0.3));\n",
              "      fill: #FFFFFF;\n",
              "    }\n",
              "  </style>\n",
              "\n",
              "      <script>\n",
              "        const buttonEl =\n",
              "          document.querySelector('#df-4c035165-db97-4a0f-be52-a0dba7e57ead button.colab-df-convert');\n",
              "        buttonEl.style.display =\n",
              "          google.colab.kernel.accessAllowed ? 'block' : 'none';\n",
              "\n",
              "        async function convertToInteractive(key) {\n",
              "          const element = document.querySelector('#df-4c035165-db97-4a0f-be52-a0dba7e57ead');\n",
              "          const dataTable =\n",
              "            await google.colab.kernel.invokeFunction('convertToInteractive',\n",
              "                                                     [key], {});\n",
              "          if (!dataTable) return;\n",
              "\n",
              "          const docLinkHtml = 'Like what you see? Visit the ' +\n",
              "            '<a target=\"_blank\" href=https://colab.research.google.com/notebooks/data_table.ipynb>data table notebook</a>'\n",
              "            + ' to learn more about interactive tables.';\n",
              "          element.innerHTML = '';\n",
              "          dataTable['output_type'] = 'display_data';\n",
              "          await google.colab.output.renderOutput(dataTable, element);\n",
              "          const docLink = document.createElement('div');\n",
              "          docLink.innerHTML = docLinkHtml;\n",
              "          element.appendChild(docLink);\n",
              "        }\n",
              "      </script>\n",
              "    </div>\n",
              "  </div>\n",
              "  "
            ]
          },
          "metadata": {},
          "execution_count": 74
        }
      ],
      "source": [
        "import math\n",
        "\n",
        "train_data['stem-volume'] = math.pi * (train_data['stem-width'] / 20)**2 * train_data['stem-height']\n",
        "train_data['cap-surface-area'] = math.pi * (train_data['cap-diameter'] / 2)**2\n",
        "\n",
        "test_data['stem-volume'] = math.pi * (test_data['stem-width'] / 20)**2 * test_data['stem-height']\n",
        "test_data['cap-surface-area'] = math.pi * (test_data['cap-diameter'] / 2)**2\n",
        "\n",
        "train_data.head()"
      ]
    },
    {
      "cell_type": "markdown",
      "metadata": {
        "id": "h-J_WJ-06ZJN"
      },
      "source": [
        "# 6.  Logistic Regression & Statistical Hypothesis Testing"
      ]
    },
    {
      "cell_type": "code",
      "execution_count": null,
      "metadata": {
        "id": "8gZxu5_xeIpA"
      },
      "outputs": [],
      "source": [
        "from sklearn.linear_model import LogisticRegression\n",
        "from sklearn.pipeline import Pipeline\n",
        "from sklearn.preprocessing import StandardScaler, OneHotEncoder\n",
        "from sklearn import metrics"
      ]
    },
    {
      "cell_type": "code",
      "execution_count": null,
      "metadata": {
        "id": "FQ9AYtUmljId",
        "colab": {
          "base_uri": "https://localhost:8080/",
          "height": 423
        },
        "outputId": "2eb958d7-7d51-45d3-b874-2bdea9126d8b"
      },
      "outputs": [
        {
          "output_type": "execute_result",
          "data": {
            "text/plain": [
              "             0         1         2         3         4    5    6    7    8   \\\n",
              "0      1.984546  3.212433  0.816899  1.691353  1.139376  0.0  0.0  0.0  0.0   \n",
              "1      2.279537  3.535246  0.958927  2.163525  1.420173  0.0  0.0  0.0  0.0   \n",
              "2      1.722576  3.476271  0.900825  1.998265  0.909814  0.0  0.0  0.0  0.0   \n",
              "3      1.744590  2.846165  0.673579  1.256122  0.928388  0.0  0.0  1.0  0.0   \n",
              "4      1.848058  3.082067  0.831101  1.662926  1.017448  0.0  0.0  0.0  0.0   \n",
              "...         ...       ...       ...       ...       ...  ...  ...  ...  ...   \n",
              "50208 -1.115064 -0.828934 -0.586603 -0.570057 -0.383085  0.0  0.0  0.0  0.0   \n",
              "50209 -1.095251 -1.061732 -0.688605 -0.597525 -0.381635  0.0  0.0  1.0  0.0   \n",
              "50210 -1.095251 -0.850662 -0.567236 -0.567898 -0.381635  0.0  0.0  0.0  0.0   \n",
              "50211 -1.101855 -0.943781 -0.687314 -0.592062 -0.382130  0.0  0.0  1.0  0.0   \n",
              "50212 -1.117265 -1.040004 -0.686023 -0.596219 -0.383240  0.0  0.0  0.0  0.0   \n",
              "\n",
              "        9   ...   83   84   85   86   87   88   89   90   91   92  \n",
              "0      0.0  ...  0.0  0.0  0.0  0.0  0.0  0.0  0.0  0.0  0.0  1.0  \n",
              "1      0.0  ...  0.0  0.0  0.0  0.0  0.0  0.0  0.0  0.0  1.0  0.0  \n",
              "2      0.0  ...  0.0  0.0  0.0  0.0  0.0  0.0  0.0  0.0  0.0  1.0  \n",
              "3      0.0  ...  0.0  0.0  0.0  0.0  0.0  0.0  0.0  0.0  0.0  1.0  \n",
              "4      0.0  ...  0.0  0.0  0.0  0.0  0.0  0.0  0.0  0.0  0.0  1.0  \n",
              "...    ...  ...  ...  ...  ...  ...  ...  ...  ...  ...  ...  ...  \n",
              "50208  0.0  ...  0.0  0.0  0.0  0.0  0.0  0.0  1.0  0.0  0.0  0.0  \n",
              "50209  0.0  ...  0.0  0.0  0.0  0.0  0.0  0.0  1.0  0.0  0.0  0.0  \n",
              "50210  0.0  ...  0.0  0.0  0.0  0.0  0.0  0.0  0.0  0.0  1.0  0.0  \n",
              "50211  0.0  ...  0.0  0.0  0.0  0.0  0.0  0.0  0.0  0.0  1.0  0.0  \n",
              "50212  0.0  ...  0.0  0.0  0.0  0.0  0.0  0.0  0.0  0.0  1.0  0.0  \n",
              "\n",
              "[50213 rows x 93 columns]"
            ],
            "text/html": [
              "\n",
              "  <div id=\"df-5f785c42-0821-453a-9440-57785e61fcf1\">\n",
              "    <div class=\"colab-df-container\">\n",
              "      <div>\n",
              "<style scoped>\n",
              "    .dataframe tbody tr th:only-of-type {\n",
              "        vertical-align: middle;\n",
              "    }\n",
              "\n",
              "    .dataframe tbody tr th {\n",
              "        vertical-align: top;\n",
              "    }\n",
              "\n",
              "    .dataframe thead th {\n",
              "        text-align: right;\n",
              "    }\n",
              "</style>\n",
              "<table border=\"1\" class=\"dataframe\">\n",
              "  <thead>\n",
              "    <tr style=\"text-align: right;\">\n",
              "      <th></th>\n",
              "      <th>0</th>\n",
              "      <th>1</th>\n",
              "      <th>2</th>\n",
              "      <th>3</th>\n",
              "      <th>4</th>\n",
              "      <th>5</th>\n",
              "      <th>6</th>\n",
              "      <th>7</th>\n",
              "      <th>8</th>\n",
              "      <th>9</th>\n",
              "      <th>...</th>\n",
              "      <th>83</th>\n",
              "      <th>84</th>\n",
              "      <th>85</th>\n",
              "      <th>86</th>\n",
              "      <th>87</th>\n",
              "      <th>88</th>\n",
              "      <th>89</th>\n",
              "      <th>90</th>\n",
              "      <th>91</th>\n",
              "      <th>92</th>\n",
              "    </tr>\n",
              "  </thead>\n",
              "  <tbody>\n",
              "    <tr>\n",
              "      <th>0</th>\n",
              "      <td>1.984546</td>\n",
              "      <td>3.212433</td>\n",
              "      <td>0.816899</td>\n",
              "      <td>1.691353</td>\n",
              "      <td>1.139376</td>\n",
              "      <td>0.0</td>\n",
              "      <td>0.0</td>\n",
              "      <td>0.0</td>\n",
              "      <td>0.0</td>\n",
              "      <td>0.0</td>\n",
              "      <td>...</td>\n",
              "      <td>0.0</td>\n",
              "      <td>0.0</td>\n",
              "      <td>0.0</td>\n",
              "      <td>0.0</td>\n",
              "      <td>0.0</td>\n",
              "      <td>0.0</td>\n",
              "      <td>0.0</td>\n",
              "      <td>0.0</td>\n",
              "      <td>0.0</td>\n",
              "      <td>1.0</td>\n",
              "    </tr>\n",
              "    <tr>\n",
              "      <th>1</th>\n",
              "      <td>2.279537</td>\n",
              "      <td>3.535246</td>\n",
              "      <td>0.958927</td>\n",
              "      <td>2.163525</td>\n",
              "      <td>1.420173</td>\n",
              "      <td>0.0</td>\n",
              "      <td>0.0</td>\n",
              "      <td>0.0</td>\n",
              "      <td>0.0</td>\n",
              "      <td>0.0</td>\n",
              "      <td>...</td>\n",
              "      <td>0.0</td>\n",
              "      <td>0.0</td>\n",
              "      <td>0.0</td>\n",
              "      <td>0.0</td>\n",
              "      <td>0.0</td>\n",
              "      <td>0.0</td>\n",
              "      <td>0.0</td>\n",
              "      <td>0.0</td>\n",
              "      <td>1.0</td>\n",
              "      <td>0.0</td>\n",
              "    </tr>\n",
              "    <tr>\n",
              "      <th>2</th>\n",
              "      <td>1.722576</td>\n",
              "      <td>3.476271</td>\n",
              "      <td>0.900825</td>\n",
              "      <td>1.998265</td>\n",
              "      <td>0.909814</td>\n",
              "      <td>0.0</td>\n",
              "      <td>0.0</td>\n",
              "      <td>0.0</td>\n",
              "      <td>0.0</td>\n",
              "      <td>0.0</td>\n",
              "      <td>...</td>\n",
              "      <td>0.0</td>\n",
              "      <td>0.0</td>\n",
              "      <td>0.0</td>\n",
              "      <td>0.0</td>\n",
              "      <td>0.0</td>\n",
              "      <td>0.0</td>\n",
              "      <td>0.0</td>\n",
              "      <td>0.0</td>\n",
              "      <td>0.0</td>\n",
              "      <td>1.0</td>\n",
              "    </tr>\n",
              "    <tr>\n",
              "      <th>3</th>\n",
              "      <td>1.744590</td>\n",
              "      <td>2.846165</td>\n",
              "      <td>0.673579</td>\n",
              "      <td>1.256122</td>\n",
              "      <td>0.928388</td>\n",
              "      <td>0.0</td>\n",
              "      <td>0.0</td>\n",
              "      <td>1.0</td>\n",
              "      <td>0.0</td>\n",
              "      <td>0.0</td>\n",
              "      <td>...</td>\n",
              "      <td>0.0</td>\n",
              "      <td>0.0</td>\n",
              "      <td>0.0</td>\n",
              "      <td>0.0</td>\n",
              "      <td>0.0</td>\n",
              "      <td>0.0</td>\n",
              "      <td>0.0</td>\n",
              "      <td>0.0</td>\n",
              "      <td>0.0</td>\n",
              "      <td>1.0</td>\n",
              "    </tr>\n",
              "    <tr>\n",
              "      <th>4</th>\n",
              "      <td>1.848058</td>\n",
              "      <td>3.082067</td>\n",
              "      <td>0.831101</td>\n",
              "      <td>1.662926</td>\n",
              "      <td>1.017448</td>\n",
              "      <td>0.0</td>\n",
              "      <td>0.0</td>\n",
              "      <td>0.0</td>\n",
              "      <td>0.0</td>\n",
              "      <td>0.0</td>\n",
              "      <td>...</td>\n",
              "      <td>0.0</td>\n",
              "      <td>0.0</td>\n",
              "      <td>0.0</td>\n",
              "      <td>0.0</td>\n",
              "      <td>0.0</td>\n",
              "      <td>0.0</td>\n",
              "      <td>0.0</td>\n",
              "      <td>0.0</td>\n",
              "      <td>0.0</td>\n",
              "      <td>1.0</td>\n",
              "    </tr>\n",
              "    <tr>\n",
              "      <th>...</th>\n",
              "      <td>...</td>\n",
              "      <td>...</td>\n",
              "      <td>...</td>\n",
              "      <td>...</td>\n",
              "      <td>...</td>\n",
              "      <td>...</td>\n",
              "      <td>...</td>\n",
              "      <td>...</td>\n",
              "      <td>...</td>\n",
              "      <td>...</td>\n",
              "      <td>...</td>\n",
              "      <td>...</td>\n",
              "      <td>...</td>\n",
              "      <td>...</td>\n",
              "      <td>...</td>\n",
              "      <td>...</td>\n",
              "      <td>...</td>\n",
              "      <td>...</td>\n",
              "      <td>...</td>\n",
              "      <td>...</td>\n",
              "      <td>...</td>\n",
              "    </tr>\n",
              "    <tr>\n",
              "      <th>50208</th>\n",
              "      <td>-1.115064</td>\n",
              "      <td>-0.828934</td>\n",
              "      <td>-0.586603</td>\n",
              "      <td>-0.570057</td>\n",
              "      <td>-0.383085</td>\n",
              "      <td>0.0</td>\n",
              "      <td>0.0</td>\n",
              "      <td>0.0</td>\n",
              "      <td>0.0</td>\n",
              "      <td>0.0</td>\n",
              "      <td>...</td>\n",
              "      <td>0.0</td>\n",
              "      <td>0.0</td>\n",
              "      <td>0.0</td>\n",
              "      <td>0.0</td>\n",
              "      <td>0.0</td>\n",
              "      <td>0.0</td>\n",
              "      <td>1.0</td>\n",
              "      <td>0.0</td>\n",
              "      <td>0.0</td>\n",
              "      <td>0.0</td>\n",
              "    </tr>\n",
              "    <tr>\n",
              "      <th>50209</th>\n",
              "      <td>-1.095251</td>\n",
              "      <td>-1.061732</td>\n",
              "      <td>-0.688605</td>\n",
              "      <td>-0.597525</td>\n",
              "      <td>-0.381635</td>\n",
              "      <td>0.0</td>\n",
              "      <td>0.0</td>\n",
              "      <td>1.0</td>\n",
              "      <td>0.0</td>\n",
              "      <td>0.0</td>\n",
              "      <td>...</td>\n",
              "      <td>0.0</td>\n",
              "      <td>0.0</td>\n",
              "      <td>0.0</td>\n",
              "      <td>0.0</td>\n",
              "      <td>0.0</td>\n",
              "      <td>0.0</td>\n",
              "      <td>1.0</td>\n",
              "      <td>0.0</td>\n",
              "      <td>0.0</td>\n",
              "      <td>0.0</td>\n",
              "    </tr>\n",
              "    <tr>\n",
              "      <th>50210</th>\n",
              "      <td>-1.095251</td>\n",
              "      <td>-0.850662</td>\n",
              "      <td>-0.567236</td>\n",
              "      <td>-0.567898</td>\n",
              "      <td>-0.381635</td>\n",
              "      <td>0.0</td>\n",
              "      <td>0.0</td>\n",
              "      <td>0.0</td>\n",
              "      <td>0.0</td>\n",
              "      <td>0.0</td>\n",
              "      <td>...</td>\n",
              "      <td>0.0</td>\n",
              "      <td>0.0</td>\n",
              "      <td>0.0</td>\n",
              "      <td>0.0</td>\n",
              "      <td>0.0</td>\n",
              "      <td>0.0</td>\n",
              "      <td>0.0</td>\n",
              "      <td>0.0</td>\n",
              "      <td>1.0</td>\n",
              "      <td>0.0</td>\n",
              "    </tr>\n",
              "    <tr>\n",
              "      <th>50211</th>\n",
              "      <td>-1.101855</td>\n",
              "      <td>-0.943781</td>\n",
              "      <td>-0.687314</td>\n",
              "      <td>-0.592062</td>\n",
              "      <td>-0.382130</td>\n",
              "      <td>0.0</td>\n",
              "      <td>0.0</td>\n",
              "      <td>1.0</td>\n",
              "      <td>0.0</td>\n",
              "      <td>0.0</td>\n",
              "      <td>...</td>\n",
              "      <td>0.0</td>\n",
              "      <td>0.0</td>\n",
              "      <td>0.0</td>\n",
              "      <td>0.0</td>\n",
              "      <td>0.0</td>\n",
              "      <td>0.0</td>\n",
              "      <td>0.0</td>\n",
              "      <td>0.0</td>\n",
              "      <td>1.0</td>\n",
              "      <td>0.0</td>\n",
              "    </tr>\n",
              "    <tr>\n",
              "      <th>50212</th>\n",
              "      <td>-1.117265</td>\n",
              "      <td>-1.040004</td>\n",
              "      <td>-0.686023</td>\n",
              "      <td>-0.596219</td>\n",
              "      <td>-0.383240</td>\n",
              "      <td>0.0</td>\n",
              "      <td>0.0</td>\n",
              "      <td>0.0</td>\n",
              "      <td>0.0</td>\n",
              "      <td>0.0</td>\n",
              "      <td>...</td>\n",
              "      <td>0.0</td>\n",
              "      <td>0.0</td>\n",
              "      <td>0.0</td>\n",
              "      <td>0.0</td>\n",
              "      <td>0.0</td>\n",
              "      <td>0.0</td>\n",
              "      <td>0.0</td>\n",
              "      <td>0.0</td>\n",
              "      <td>1.0</td>\n",
              "      <td>0.0</td>\n",
              "    </tr>\n",
              "  </tbody>\n",
              "</table>\n",
              "<p>50213 rows × 93 columns</p>\n",
              "</div>\n",
              "      <button class=\"colab-df-convert\" onclick=\"convertToInteractive('df-5f785c42-0821-453a-9440-57785e61fcf1')\"\n",
              "              title=\"Convert this dataframe to an interactive table.\"\n",
              "              style=\"display:none;\">\n",
              "        \n",
              "  <svg xmlns=\"http://www.w3.org/2000/svg\" height=\"24px\"viewBox=\"0 0 24 24\"\n",
              "       width=\"24px\">\n",
              "    <path d=\"M0 0h24v24H0V0z\" fill=\"none\"/>\n",
              "    <path d=\"M18.56 5.44l.94 2.06.94-2.06 2.06-.94-2.06-.94-.94-2.06-.94 2.06-2.06.94zm-11 1L8.5 8.5l.94-2.06 2.06-.94-2.06-.94L8.5 2.5l-.94 2.06-2.06.94zm10 10l.94 2.06.94-2.06 2.06-.94-2.06-.94-.94-2.06-.94 2.06-2.06.94z\"/><path d=\"M17.41 7.96l-1.37-1.37c-.4-.4-.92-.59-1.43-.59-.52 0-1.04.2-1.43.59L10.3 9.45l-7.72 7.72c-.78.78-.78 2.05 0 2.83L4 21.41c.39.39.9.59 1.41.59.51 0 1.02-.2 1.41-.59l7.78-7.78 2.81-2.81c.8-.78.8-2.07 0-2.86zM5.41 20L4 18.59l7.72-7.72 1.47 1.35L5.41 20z\"/>\n",
              "  </svg>\n",
              "      </button>\n",
              "      \n",
              "  <style>\n",
              "    .colab-df-container {\n",
              "      display:flex;\n",
              "      flex-wrap:wrap;\n",
              "      gap: 12px;\n",
              "    }\n",
              "\n",
              "    .colab-df-convert {\n",
              "      background-color: #E8F0FE;\n",
              "      border: none;\n",
              "      border-radius: 50%;\n",
              "      cursor: pointer;\n",
              "      display: none;\n",
              "      fill: #1967D2;\n",
              "      height: 32px;\n",
              "      padding: 0 0 0 0;\n",
              "      width: 32px;\n",
              "    }\n",
              "\n",
              "    .colab-df-convert:hover {\n",
              "      background-color: #E2EBFA;\n",
              "      box-shadow: 0px 1px 2px rgba(60, 64, 67, 0.3), 0px 1px 3px 1px rgba(60, 64, 67, 0.15);\n",
              "      fill: #174EA6;\n",
              "    }\n",
              "\n",
              "    [theme=dark] .colab-df-convert {\n",
              "      background-color: #3B4455;\n",
              "      fill: #D2E3FC;\n",
              "    }\n",
              "\n",
              "    [theme=dark] .colab-df-convert:hover {\n",
              "      background-color: #434B5C;\n",
              "      box-shadow: 0px 1px 3px 1px rgba(0, 0, 0, 0.15);\n",
              "      filter: drop-shadow(0px 1px 2px rgba(0, 0, 0, 0.3));\n",
              "      fill: #FFFFFF;\n",
              "    }\n",
              "  </style>\n",
              "\n",
              "      <script>\n",
              "        const buttonEl =\n",
              "          document.querySelector('#df-5f785c42-0821-453a-9440-57785e61fcf1 button.colab-df-convert');\n",
              "        buttonEl.style.display =\n",
              "          google.colab.kernel.accessAllowed ? 'block' : 'none';\n",
              "\n",
              "        async function convertToInteractive(key) {\n",
              "          const element = document.querySelector('#df-5f785c42-0821-453a-9440-57785e61fcf1');\n",
              "          const dataTable =\n",
              "            await google.colab.kernel.invokeFunction('convertToInteractive',\n",
              "                                                     [key], {});\n",
              "          if (!dataTable) return;\n",
              "\n",
              "          const docLinkHtml = 'Like what you see? Visit the ' +\n",
              "            '<a target=\"_blank\" href=https://colab.research.google.com/notebooks/data_table.ipynb>data table notebook</a>'\n",
              "            + ' to learn more about interactive tables.';\n",
              "          element.innerHTML = '';\n",
              "          dataTable['output_type'] = 'display_data';\n",
              "          await google.colab.output.renderOutput(dataTable, element);\n",
              "          const docLink = document.createElement('div');\n",
              "          docLink.innerHTML = docLinkHtml;\n",
              "          element.appendChild(docLink);\n",
              "        }\n",
              "      </script>\n",
              "    </div>\n",
              "  </div>\n",
              "  "
            ]
          },
          "metadata": {},
          "execution_count": 76
        }
      ],
      "source": [
        "numerical = [col for col in train_data.columns if train_data[col].dtype != object]\n",
        "categorical = [col for col in train_data.columns if train_data[col].dtype == object]\n",
        "\n",
        "num_pipeline = Pipeline([\n",
        "  ('std_scaler', StandardScaler())\n",
        "])\n",
        "num_transformed = num_pipeline.fit_transform(train_data[numerical])\n",
        "\n",
        "full_pipeline = ColumnTransformer([\n",
        "  (\"num\", num_pipeline, numerical),\n",
        "  (\"cat\", OneHotEncoder(categories='auto', handle_unknown='ignore'), categorical),\n",
        "])\n",
        "\n",
        "prepared_train = full_pipeline.fit_transform(train_data).toarray()\n",
        "prepared_test = full_pipeline.transform(test_data).toarray()\n",
        "pd.DataFrame(prepared_train)"
      ]
    },
    {
      "cell_type": "code",
      "execution_count": null,
      "metadata": {
        "id": "wuYqZaAZtDiM",
        "colab": {
          "base_uri": "https://localhost:8080/"
        },
        "outputId": "05f20d0f-9223-4daf-d47d-319ba0f4ed8e"
      },
      "outputs": [
        {
          "output_type": "stream",
          "name": "stdout",
          "text": [
            "Accuracy:    0.508659\n",
            "Precision:   0.822059\n",
            "Recall:      0.180032\n",
            "F1 Score:    0.295376\n"
          ]
        }
      ],
      "source": [
        "log_reg = LogisticRegression(solver='liblinear', max_iter=200)\n",
        "log_reg.fit(prepared_train, train_labels)\n",
        "pred = log_reg.predict(prepared_test)\n",
        "\n",
        "print(\"%-12s %f\" % (\"Accuracy:\", metrics.accuracy_score(test_labels, pred)))\n",
        "print(\"%-12s %f\" % ('Precision:', metrics.precision_score(test_labels, pred)))\n",
        "print(\"%-12s %f\" % ('Recall:', metrics.recall_score(test_labels, pred)))\n",
        "print(\"%-12s %f\" % ('F1 Score:', metrics.f1_score(test_labels, pred)))"
      ]
    },
    {
      "cell_type": "code",
      "execution_count": null,
      "metadata": {
        "id": "nb6o0EBZ6gEF",
        "colab": {
          "base_uri": "https://localhost:8080/"
        },
        "outputId": "3ff7b7d6-78d2-42f3-8aa9-77f2ea13ca97"
      },
      "outputs": [
        {
          "output_type": "stream",
          "name": "stdout",
          "text": [
            "                 Generalized Linear Model Regression Results                  \n",
            "==============================================================================\n",
            "Dep. Variable:                      y   No. Observations:                50213\n",
            "Model:                            GLM   Df Residuals:                    50207\n",
            "Model Family:                Binomial   Df Model:                            5\n",
            "Link Function:                  Logit   Scale:                          1.0000\n",
            "Method:                          IRLS   Log-Likelihood:                -33232.\n",
            "Date:                Sun, 05 Mar 2023   Deviance:                       66463.\n",
            "Time:                        04:56:12   Pearson chi2:                 5.01e+04\n",
            "No. Iterations:                     5   Pseudo R-squ. (CS):            0.03479\n",
            "Covariance Type:            nonrobust                                         \n",
            "==============================================================================\n",
            "                 coef    std err          z      P>|z|      [0.025      0.975]\n",
            "------------------------------------------------------------------------------\n",
            "const         -0.3411      0.009    -36.940      0.000      -0.359      -0.323\n",
            "x1             0.5338      0.032     16.765      0.000       0.471       0.596\n",
            "x2             0.0746      0.014      5.244      0.000       0.047       0.102\n",
            "x3             0.1782      0.027      6.703      0.000       0.126       0.230\n",
            "x4            -0.3380      0.024    -13.834      0.000      -0.386      -0.290\n",
            "x5            -0.1243      0.027     -4.601      0.000      -0.177      -0.071\n",
            "==============================================================================\n"
          ]
        }
      ],
      "source": [
        "import statsmodels.api as sm\n",
        "\n",
        "prepared_train_subset = pd.DataFrame(prepared_train).iloc[:, 0:5].to_numpy()\n",
        "sm_x = sm.add_constant(prepared_train_subset)\n",
        "model = sm.GLM(train_labels, sm_x, family=sm.families.Binomial()).fit()\n",
        "\n",
        "print(model.summary())"
      ]
    },
    {
      "cell_type": "markdown",
      "metadata": {
        "id": "_gTzEm8uVvbw"
      },
      "source": [
        "# 7. Dimensionality Reduction using PCA\n",
        "\n"
      ]
    },
    {
      "cell_type": "code",
      "execution_count": null,
      "metadata": {
        "id": "bwunhLAEVvCM"
      },
      "outputs": [],
      "source": [
        "# PCA: https://scikit-learn.org/stable/modules/generated/sklearn.decomposition.PCA.html\n",
        "\n",
        "from sklearn.decomposition import PCA"
      ]
    },
    {
      "cell_type": "code",
      "execution_count": null,
      "metadata": {
        "id": "RbDJBYwr91sO",
        "colab": {
          "base_uri": "https://localhost:8080/"
        },
        "outputId": "638b71bb-d896-4637-91cf-9cfb02687bb0"
      },
      "outputs": [
        {
          "output_type": "stream",
          "name": "stdout",
          "text": [
            "[0.29075028 0.08465817 0.05601896 0.04045343 0.03595299 0.03503712\n",
            " 0.03179762 0.02752867 0.02667137 0.02451593 0.02322699 0.02057723\n",
            " 0.01893789 0.01738452 0.0145175  0.0140315  0.01358326 0.0121863\n",
            " 0.01135677 0.00999969 0.00996342 0.00956662 0.00928222 0.00841659\n",
            " 0.00823764 0.00776558 0.00760468 0.00726399 0.00685193 0.00617157\n",
            " 0.00600203 0.0054699  0.00515389 0.00503568 0.00483555 0.0046934\n",
            " 0.00434643 0.00405213 0.0038237  0.00371487 0.00351743 0.00328609\n",
            " 0.00326429 0.0030134 ]\n"
          ]
        }
      ],
      "source": [
        "pca = PCA(n_components=0.95)\n",
        "train_reduced = pca.fit_transform(prepared_train)\n",
        "print(pca.explained_variance_ratio_)"
      ]
    },
    {
      "cell_type": "code",
      "source": [
        "log_reg2 = LogisticRegression(solver='liblinear')\n",
        "log_reg2.fit(train_reduced, train_labels)\n",
        "\n",
        "test_reduced = pca.transform(prepared_test)\n",
        "pred2 = log_reg2.predict(test_reduced)\n",
        "\n",
        "print(\"%-12s %f\" % (\"Accuracy:\", metrics.accuracy_score(test_labels, pred2)))\n",
        "print(\"%-12s %f\" % ('Precision:', metrics.precision_score(test_labels, pred2)))\n",
        "print(\"%-12s %f\" % ('Recall:', metrics.recall_score(test_labels, pred2)))\n",
        "print(\"%-12s %f\" % ('F1 Score:', metrics.f1_score(test_labels, pred2)))"
      ],
      "metadata": {
        "colab": {
          "base_uri": "https://localhost:8080/"
        },
        "id": "9y6DBEWHURc4",
        "outputId": "e4134ac9-7af7-4e8f-ce0f-bf83d9d506ef"
      },
      "execution_count": null,
      "outputs": [
        {
          "output_type": "stream",
          "name": "stdout",
          "text": [
            "Accuracy:    0.512896\n",
            "Precision:   0.869391\n",
            "Recall:      0.174718\n",
            "F1 Score:    0.290963\n"
          ]
        }
      ]
    },
    {
      "cell_type": "markdown",
      "metadata": {
        "id": "HazoMF_f7P_c"
      },
      "source": [
        "# 8. Experiment with any 2 other models (Non-Ensemble)"
      ]
    },
    {
      "cell_type": "code",
      "execution_count": null,
      "metadata": {
        "colab": {
          "base_uri": "https://localhost:8080/"
        },
        "id": "2c3uC9LWfgvn",
        "outputId": "ae9a979f-f222-4934-aa51-e14d8197399a"
      },
      "outputs": [
        {
          "output_type": "stream",
          "name": "stdout",
          "text": [
            "Accuracy:    0.502119\n",
            "Precision:   0.788945\n",
            "Recall:      0.176973\n",
            "F1 Score:    0.289096\n"
          ]
        }
      ],
      "source": [
        "# Models: https://scikit-learn.org/stable/supervised_learning.html\n",
        "\n",
        "from sklearn.linear_model import RidgeClassifier\n",
        "\n",
        "rc = RidgeClassifier().fit(prepared_train, train_labels)\n",
        "ridge_pred = rc.predict(prepared_test)\n",
        "\n",
        "print(\"%-12s %f\" % (\"Accuracy:\", metrics.accuracy_score(test_labels, ridge_pred)))\n",
        "print(\"%-12s %f\" % ('Precision:', metrics.precision_score(test_labels, ridge_pred)))\n",
        "print(\"%-12s %f\" % ('Recall:', metrics.recall_score(test_labels, ridge_pred)))\n",
        "print(\"%-12s %f\" % ('F1 Score:', metrics.f1_score(test_labels, ridge_pred)))"
      ]
    },
    {
      "cell_type": "code",
      "execution_count": null,
      "metadata": {
        "id": "T5ktAO1MEx7e",
        "colab": {
          "base_uri": "https://localhost:8080/"
        },
        "outputId": "e5c31b8f-3190-4ac3-9173-b16179a29134"
      },
      "outputs": [
        {
          "output_type": "stream",
          "name": "stdout",
          "text": [
            "Accuracy:    0.530490\n",
            "Precision:   0.683603\n",
            "Recall:      0.333655\n",
            "F1 Score:    0.448436\n"
          ]
        }
      ],
      "source": [
        "from sklearn.neighbors import KNeighborsClassifier\n",
        "\n",
        "knn = KNeighborsClassifier().fit(prepared_train, train_labels)\n",
        "knn_pred = knn.predict(prepared_test)\n",
        "\n",
        "print(\"%-12s %f\" % (\"Accuracy:\", metrics.accuracy_score(test_labels, knn_pred)))\n",
        "print(\"%-12s %f\" % ('Precision:', metrics.precision_score(test_labels, knn_pred)))\n",
        "print(\"%-12s %f\" % ('Recall:', metrics.recall_score(test_labels, knn_pred)))\n",
        "print(\"%-12s %f\" % ('F1 Score:', metrics.f1_score(test_labels, knn_pred)))"
      ]
    },
    {
      "cell_type": "markdown",
      "metadata": {
        "id": "1h6JUUZY7Ak2"
      },
      "source": [
        "# 9. Experiment with 1 Ensemble Method"
      ]
    },
    {
      "cell_type": "code",
      "execution_count": null,
      "metadata": {
        "id": "cXXtF42pfSQa",
        "colab": {
          "base_uri": "https://localhost:8080/"
        },
        "outputId": "f709a067-b2c6-4190-e8ad-4218cc72a3ca"
      },
      "outputs": [
        {
          "output_type": "stream",
          "name": "stdout",
          "text": [
            "Accuracy:    0.576916\n",
            "Precision:   0.806134\n",
            "Recall:      0.342834\n",
            "F1 Score:    0.481076\n"
          ]
        }
      ],
      "source": [
        "# Ensemble Methods: https://scikit-learn.org/stable/modules/ensemble.html\n",
        "\n",
        "from sklearn.ensemble import RandomForestClassifier\n",
        "\n",
        "rfc = RandomForestClassifier(n_estimators=10).fit(prepared_train, train_labels)\n",
        "rfc_pred = rfc.predict(prepared_test)\n",
        "\n",
        "print(\"%-12s %f\" % (\"Accuracy:\", metrics.accuracy_score(test_labels, rfc_pred)))\n",
        "print(\"%-12s %f\" % ('Precision:', metrics.precision_score(test_labels, rfc_pred)))\n",
        "print(\"%-12s %f\" % ('Recall:', metrics.recall_score(test_labels, rfc_pred)))\n",
        "print(\"%-12s %f\" % ('F1 Score:', metrics.f1_score(test_labels, rfc_pred)))"
      ]
    },
    {
      "cell_type": "markdown",
      "metadata": {
        "id": "sOdYyK4cfS1v"
      },
      "source": [
        "# 10. Cross-Validation & Hyperparameter Tuning for All 3 Models"
      ]
    },
    {
      "cell_type": "code",
      "execution_count": null,
      "metadata": {
        "id": "SIvLK-rEfBzf"
      },
      "outputs": [],
      "source": [
        "# Cross-Validation: https://scikit-learn.org/stable/modules/cross_validation.html\n",
        "# Hyperparameter Tuning: https://scikit-learn.org/stable/modules/grid_search.html\n",
        "\n",
        "from sklearn.model_selection import KFold, GridSearchCV, cross_val_score\n",
        "\n",
        "kfold = KFold(n_splits=10, random_state=42, shuffle=True)"
      ]
    },
    {
      "cell_type": "code",
      "source": [
        "rc_model = RidgeClassifier()\n",
        "\n",
        "rc_cv = cross_val_score(rc_model, prepared_train, train_labels, cv=kfold)\n",
        "print(\"Ridge Classifier Cross Validation Accuracy: %.2f%% \" % (rc_cv.mean()*100.0))"
      ],
      "metadata": {
        "colab": {
          "base_uri": "https://localhost:8080/"
        },
        "id": "ZBG3ywHwZud_",
        "outputId": "96316baa-fb66-4f1d-f4f6-19daa9be5c91"
      },
      "execution_count": null,
      "outputs": [
        {
          "output_type": "stream",
          "name": "stdout",
          "text": [
            "Ridge Classifier Cross Validation Accuracy: 80.33% \n"
          ]
        }
      ]
    },
    {
      "cell_type": "code",
      "source": [
        "rc_params = {'alpha': [0.1, 0.2, 0.3, 0.4, 0.5, 0.6, 0.7, 0.8, 0.9, 1.0]}\n",
        "rc_gs = GridSearchCV(rc_model, rc_params, cv=kfold, scoring='accuracy').fit(prepared_train, train_labels)\n",
        "\n",
        "print(\"Ridge Classifier:\")\n",
        "print(\"Best model: \", rc_gs.best_estimator_)\n",
        "print(\"Best hyperparameters:\", rc_gs.best_params_)\n",
        "print(\"Best Accuracy: %.2f%% \" % (rc_gs.best_score_*100.0))"
      ],
      "metadata": {
        "colab": {
          "base_uri": "https://localhost:8080/"
        },
        "id": "LaCrUMDdgCDI",
        "outputId": "406e8bdc-b2ba-4ab0-c31c-1e6db9a1c1d0"
      },
      "execution_count": null,
      "outputs": [
        {
          "output_type": "stream",
          "name": "stdout",
          "text": [
            "Ridge Classifier:\n",
            "Best model:  RidgeClassifier(alpha=0.2)\n",
            "Best hyperparameters: {'alpha': 0.2}\n",
            "Best Accuracy: 80.34% \n"
          ]
        }
      ]
    },
    {
      "cell_type": "code",
      "source": [
        "knn_model = KNeighborsClassifier()\n",
        "\n",
        "knn_cv = cross_val_score(knn_model, prepared_train, train_labels, cv=kfold)\n",
        "print(\"KNN Cross Validation Accuracy: %.2f%% \" % (knn_cv.mean()*100.0))"
      ],
      "metadata": {
        "colab": {
          "base_uri": "https://localhost:8080/"
        },
        "id": "hZFdNWWogCsL",
        "outputId": "8cc55fba-d510-4df6-98e9-d187d53f0382"
      },
      "execution_count": null,
      "outputs": [
        {
          "output_type": "stream",
          "name": "stdout",
          "text": [
            "KNN Cross Validation Accuracy: 99.99% \n"
          ]
        }
      ]
    },
    {
      "cell_type": "code",
      "source": [
        "knn_params = {'n_neighbors': [5, 10, 20, 30, 50]}\n",
        "knn_gs = GridSearchCV(knn_model, knn_params, cv=kfold, scoring='accuracy').fit(prepared_train, train_labels)\n",
        "\n",
        "print(\"KNN:\")\n",
        "print(\"Best model: \", knn_gs.best_estimator_)\n",
        "print(\"Best hyperparameters:\", knn_gs.best_params_)\n",
        "print(\"Best Accuracy: %.2f%% \" % (knn_gs.best_score_*100.0))"
      ],
      "metadata": {
        "colab": {
          "base_uri": "https://localhost:8080/"
        },
        "id": "GUaWeEFNZuPd",
        "outputId": "b6a281a9-2563-46be-d67c-d217b3223b42"
      },
      "execution_count": null,
      "outputs": [
        {
          "output_type": "stream",
          "name": "stdout",
          "text": [
            "KNN:\n",
            "Best model:  KNeighborsClassifier()\n",
            "Best hyperparameters: {'n_neighbors': 5}\n",
            "Best Accuracy: 99.99% \n"
          ]
        }
      ]
    },
    {
      "cell_type": "code",
      "source": [
        "rfc_model = RandomForestClassifier()\n",
        "\n",
        "rfc_cv = cross_val_score(rfc_model, prepared_train, train_labels, cv=kfold)\n",
        "print(\"Random Forest Classifier Cross Validation Accuracy: %.2f%% \" % (rfc_cv.mean()*100.0))"
      ],
      "metadata": {
        "colab": {
          "base_uri": "https://localhost:8080/"
        },
        "id": "aENjCxWwZuC8",
        "outputId": "294bf6fe-ff32-453c-ba96-6ae64b78858f"
      },
      "execution_count": null,
      "outputs": [
        {
          "output_type": "stream",
          "name": "stdout",
          "text": [
            "Random Forest Classifier Cross Validation Accuracy: 99.99% \n"
          ]
        }
      ]
    },
    {
      "cell_type": "code",
      "source": [
        "rfc_params = [{\n",
        "    'n_estimators': [100, 250, 500],\n",
        "    'criterion': ['gini', 'entropy'],\n",
        "    'class_weight': ['balanced', None]\n",
        "}]\n",
        "rfc_gs = GridSearchCV(rfc_model, rfc_params, cv=kfold, scoring='accuracy').fit(prepared_train, train_labels)\n",
        "\n",
        "print(\"Random Forest Classifier:\")\n",
        "print(\"Best model: \", rfc_gs.best_estimator_)\n",
        "print(\"Best hyperparameters:\", rfc_gs.best_params_)\n",
        "print(\"Best Accuracy: %.2f%% \" % (rfc_gs.best_score_*100.0))"
      ],
      "metadata": {
        "colab": {
          "base_uri": "https://localhost:8080/"
        },
        "id": "oKEOu0ZyZt3M",
        "outputId": "838f52ca-6910-4f57-83d8-8ea262ceea29"
      },
      "execution_count": null,
      "outputs": [
        {
          "output_type": "stream",
          "name": "stdout",
          "text": [
            "Random Forest Classifier:\n",
            "Best model:  RandomForestClassifier()\n",
            "Best hyperparameters: {'class_weight': None, 'criterion': 'gini', 'n_estimators': 100}\n",
            "Best Accuracy: 99.99% \n"
          ]
        }
      ]
    },
    {
      "cell_type": "markdown",
      "metadata": {
        "id": "OTnFJgrd7VPw"
      },
      "source": [
        "# 11. Report Final Results"
      ]
    },
    {
      "cell_type": "code",
      "execution_count": null,
      "metadata": {
        "id": "XcyjfhjWfh9r",
        "colab": {
          "base_uri": "https://localhost:8080/"
        },
        "outputId": "1cc58aff-cfd8-43cb-9206-5711d12b0918"
      },
      "outputs": [
        {
          "output_type": "stream",
          "name": "stdout",
          "text": [
            "Logistic Regression:\n",
            "Accuracy:    0.512896\n",
            "Precision:   0.869391\n",
            "Recall:      0.174718\n",
            "F1 Score:    0.290963\n"
          ]
        }
      ],
      "source": [
        "# e.g. Accuracy, Precision etc.\n",
        "\n",
        "print(\"Logistic Regression:\")\n",
        "print(\"%-12s %f\" % (\"Accuracy:\", metrics.accuracy_score(test_labels, pred2)))\n",
        "print(\"%-12s %f\" % ('Precision:', metrics.precision_score(test_labels, pred2)))\n",
        "print(\"%-12s %f\" % ('Recall:', metrics.recall_score(test_labels, pred2)))\n",
        "print(\"%-12s %f\" % ('F1 Score:', metrics.f1_score(test_labels, pred2)))"
      ]
    },
    {
      "cell_type": "code",
      "source": [
        "rc2 = RidgeClassifier(alpha=0.2).fit(prepared_train, train_labels)\n",
        "ridge_pred2 = rc2.predict(prepared_test)\n",
        "\n",
        "print(\"%-12s %f\" % (\"Accuracy:\", metrics.accuracy_score(test_labels, ridge_pred2)))\n",
        "print(\"%-12s %f\" % ('Precision:', metrics.precision_score(test_labels, ridge_pred2)))\n",
        "print(\"%-12s %f\" % ('Recall:', metrics.recall_score(test_labels, ridge_pred2)))\n",
        "print(\"%-12s %f\" % ('F1 Score:', metrics.f1_score(test_labels, ridge_pred2)))"
      ],
      "metadata": {
        "colab": {
          "base_uri": "https://localhost:8080/"
        },
        "id": "Q337g6voYt0o",
        "outputId": "7256a5d6-57f2-47a6-9268-db1866c5b349"
      },
      "execution_count": null,
      "outputs": [
        {
          "output_type": "stream",
          "name": "stdout",
          "text": [
            "Accuracy:    0.502119\n",
            "Precision:   0.788945\n",
            "Recall:      0.176973\n",
            "F1 Score:    0.289096\n"
          ]
        }
      ]
    },
    {
      "cell_type": "code",
      "source": [
        "knn2 = KNeighborsClassifier(n_neighbors=5).fit(prepared_train, train_labels)\n",
        "knn_pred2 = knn2.predict(prepared_test)\n",
        "\n",
        "print(\"%-12s %f\" % (\"Accuracy:\", metrics.accuracy_score(test_labels, knn_pred2)))\n",
        "print(\"%-12s %f\" % ('Precision:', metrics.precision_score(test_labels, knn_pred2)))\n",
        "print(\"%-12s %f\" % ('Recall:', metrics.recall_score(test_labels, knn_pred2)))\n",
        "print(\"%-12s %f\" % ('F1 Score:', metrics.f1_score(test_labels, knn_pred2)))"
      ],
      "metadata": {
        "colab": {
          "base_uri": "https://localhost:8080/"
        },
        "id": "VYidYb3iYuMG",
        "outputId": "6d1d2156-13c6-4254-942c-0be20f93c57b"
      },
      "execution_count": null,
      "outputs": [
        {
          "output_type": "stream",
          "name": "stdout",
          "text": [
            "Accuracy:    0.530490\n",
            "Precision:   0.683603\n",
            "Recall:      0.333655\n",
            "F1 Score:    0.448436\n"
          ]
        }
      ]
    },
    {
      "cell_type": "code",
      "source": [
        "rfc2 = RandomForestClassifier(n_estimators=100, criterion='gini').fit(prepared_train, train_labels)\n",
        "rfc_pred2 = rfc2.predict(prepared_test)\n",
        "\n",
        "print(\"%-12s %f\" % (\"Accuracy:\", metrics.accuracy_score(test_labels, rfc_pred2)))\n",
        "print(\"%-12s %f\" % ('Precision:', metrics.precision_score(test_labels, rfc_pred2)))\n",
        "print(\"%-12s %f\" % ('Recall:', metrics.recall_score(test_labels, rfc_pred2)))\n",
        "print(\"%-12s %f\" % ('F1 Score:', metrics.f1_score(test_labels, rfc_pred2)))"
      ],
      "metadata": {
        "colab": {
          "base_uri": "https://localhost:8080/"
        },
        "id": "-sw2PWU7cmTS",
        "outputId": "1d5153e2-ca89-4f9c-f1b7-ffd3abe22f28"
      },
      "execution_count": null,
      "outputs": [
        {
          "output_type": "stream",
          "name": "stdout",
          "text": [
            "Accuracy:    0.589075\n",
            "Precision:   0.863920\n",
            "Recall:      0.334300\n",
            "F1 Score:    0.482062\n"
          ]
        }
      ]
    }
  ],
  "metadata": {
    "colab": {
      "provenance": []
    },
    "kernelspec": {
      "display_name": "Python 3",
      "name": "python3"
    },
    "language_info": {
      "name": "python"
    }
  },
  "nbformat": 4,
  "nbformat_minor": 0
}